{
 "cells": [
  {
   "cell_type": "markdown",
   "metadata": {},
   "source": [
    "[decorator hackerrank exercise](https://www.hackerrank.com/challenges/decorators-2-name-directory/problem?isFullScreen=true)\n",
    "\n",
    "Let's use decorators to build a name directory! You are given some information about  people. Each person has a first name, last name, age and sex. Print their names in a specific format sorted by their age in ascending order i.e. the youngest person's name should be printed first. For two people of the same age, print them in the order of their input.\n",
    "\n",
    "For Henry Davids, the output should be:\n",
    "\n",
    "Mr. Henry Davids\n",
    "For Mary George, the output should be:\n",
    "\n",
    "Ms. Mary George\n",
    "Input Format\n",
    "\n",
    "The first line contains the integer , the number of people.\n",
    " lines follow each containing the space separated values of the first name, last name, age and sex, respectively.\n",
    "\n",
    "Constraints\n",
    "\n",
    "\n",
    "Output Format\n",
    "\n",
    "Output  names on separate lines in the format described above in ascending order of age.\n",
    "\n",
    "Sample Input\n",
    "\n",
    "3\n",
    "\n",
    "Mike Thomson 20 M\n",
    "\n",
    "Robert Bustle 32 M\n",
    "\n",
    "Andria Bustle 30 F\n",
    "\n",
    "\n",
    "Sample Output\n",
    "\n",
    "Mr. Mike Thomson\n",
    "\n",
    "Ms. Andria Bustle\n",
    "\n",
    "Mr. Robert Bustle\n",
    "\n",
    "Concept\n",
    "\n",
    "For sorting a nested list based on some parameter, you can use the itemgetter library. You can read more about it here."
   ]
  },
  {
   "cell_type": "code",
   "execution_count": null,
   "metadata": {},
   "outputs": [],
   "source": [
    "import operator\n",
    "from operator import itemgetter\n",
    "def person_lister(f):\n",
    "    def inner(people):\n",
    "        # complete the function\n",
    "        people = sorted(people, key=int(itemgetter(2)))\n",
    "        return [f(person) for person in people]\n",
    "    return inner\n",
    "\n",
    "@person_lister\n",
    "def name_format(person):\n",
    "    return (\"Mr. \" if person[3] == \"M\" else \"Ms. \") + person[0] + \" \" + person[1]\n",
    "\n",
    "if __name__ == '__main__':\n",
    "    people = [input().split() for i in range(int(input()))]\n",
    "    print(*name_format(people), sep='\\n')"
   ]
  },
  {
   "cell_type": "code",
   "execution_count": null,
   "metadata": {},
   "outputs": [],
   "source": []
  }
 ],
 "metadata": {
  "language_info": {
   "name": "python"
  },
  "orig_nbformat": 4
 },
 "nbformat": 4,
 "nbformat_minor": 2
}
