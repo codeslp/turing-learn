{
 "cells": [
  {
   "cell_type": "markdown",
   "metadata": {},
   "source": [
    "In this exercise, write two functions. find_longest_word takes a filename as an argument and returns the longest word found in the file. The second function, find_all_longest_words, takes a directory name and returns a dict in which the keys are filenames and the values are the longest words from each file."
   ]
  },
  {
   "cell_type": "markdown",
   "metadata": {},
   "source": [
    "First, since we can't access  the exercise file, we'll make our own:"
   ]
  },
  {
   "cell_type": "code",
   "execution_count": 1,
   "metadata": {},
   "outputs": [],
   "source": [
    "import zipfile\n",
    "import os\n",
    "\n",
    "\n",
    "dir_path = \"/Users/bfaris96/Desktop/TuringEx/turing-learn/long-txts\"\n",
    "\n",
    "zip_name = \"long-txts.zip\"\n",
    "\n",
    "zip_file = zipfile.ZipFile(zip_name, 'w')\n",
    "\n",
    "for file_name in os.listdir(dir_path):\n",
    "    if file_name.endswith(\".txt\"):\n",
    "        zip_file.write(os.path.join(dir_path, file_name), file_name, compress_type=zipfile.ZIP_DEFLATED)\n",
    "\n",
    "zip_file.close()"
   ]
  },
  {
   "cell_type": "markdown",
   "metadata": {},
   "source": [
    "Okay now the actual exercise. I'm going to try to use dict comprehensions"
   ]
  },
  {
   "cell_type": "code",
   "execution_count": 21,
   "metadata": {},
   "outputs": [
    {
     "name": "stdout",
     "output_type": "stream",
     "text": [
      "unenforceability\n",
      "unenforceability\n",
      "straightforwardly\n",
      "undistinguishable\n",
      "misrepresentations\n"
     ]
    }
   ],
   "source": [
    "from itertools import groupby, chain\n",
    "from unicodedata import category\n",
    "\n",
    "def fancy_split(s):\n",
    "    return [''.join(g) for k,g in groupby(s, key=lambda x: category(x)[0] == 'L')]\n",
    "\n",
    "def find_longest_word(txt):\n",
    "    with open(txt, 'r') as f:\n",
    "        txt = f.read()\n",
    "        words = sorted(fancy_split(txt), key=len, reverse=True)\n",
    "        longest_word = next((word for word in words if word.isalpha()), None)\n",
    "        print(longest_word)\n",
    "\n",
    "# find_longest_word(\"/Users/bfaris96/Desktop/TuringEx/turing-learn/long-txts/gutenberg.org_cache_epub_1513_pg1513.txt\")\n",
    "\n",
    "def find_all_the_longest_words(folder):\n",
    "    for file in os.listdir(folder):\n",
    "        if file.endswith(\".txt\"):\n",
    "            find_longest_word(os.path.join(folder, file))\n",
    "\n",
    "find_all_the_longest_words(\"/Users/bfaris96/Desktop/TuringEx/turing-learn/long-txts\")\n"
   ]
  }
 ],
 "metadata": {
  "kernelspec": {
   "display_name": "Python 3",
   "language": "python",
   "name": "python3"
  },
  "language_info": {
   "codemirror_mode": {
    "name": "ipython",
    "version": 3
   },
   "file_extension": ".py",
   "mimetype": "text/x-python",
   "name": "python",
   "nbconvert_exporter": "python",
   "pygments_lexer": "ipython3",
   "version": "3.10.11"
  },
  "orig_nbformat": 4
 },
 "nbformat": 4,
 "nbformat_minor": 2
}
