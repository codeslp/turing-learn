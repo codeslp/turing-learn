{
 "cells": [
  {
   "cell_type": "markdown",
   "metadata": {},
   "source": [
    "The idea of the next few examples is simple: start a function that blocks for 3 seconds while animating characters in the terminal to let the user know that the program is “thinking” and not stalled.\n",
    "\n",
    "The script makes an animated spinner displaying each character in the string \"\\|/-\" in the same screen position"
   ]
  },
  {
   "cell_type": "markdown",
   "metadata": {},
   "source": [
    "Spinner with Threads"
   ]
  },
  {
   "cell_type": "code",
   "execution_count": 9,
   "metadata": {},
   "outputs": [
    {
     "name": "stdout",
     "output_type": "stream",
     "text": [
      "spinner object: <Thread(Thread-11 (spin), initial)>\n",
      "Answer: 42  \n"
     ]
    }
   ],
   "source": [
    "import itertools\n",
    "import time\n",
    "from threading import Thread, Event\n",
    "\n",
    "def spin(msg: str, done: Event) -> None:\n",
    "    for char in itertools.cycle(r'\\|/-'):\n",
    "        status = f'\\r{char} {msg}'\n",
    "        print(status, end=' ', flush=True)\n",
    "        if done.wait(.2):  \n",
    "            break  \n",
    "    blanks = ' ' * len(status)\n",
    "    print(f'\\r{blanks}\\r', end='')  \n",
    "\n",
    "def slow() -> int:\n",
    "    time.sleep(3)  \n",
    "    return 42\n",
    "\n",
    "def supervisor() -> int:  \n",
    "    done = Event()  \n",
    "    spinner = Thread(target=spin, args=('thinking!', done))  \n",
    "    print(f'spinner object: {spinner}')  \n",
    "    spinner.start()  \n",
    "    result = slow()  \n",
    "    done.set()  \n",
    "    spinner.join()  \n",
    "    return result\n",
    "\n",
    "def main() -> None:\n",
    "    result = supervisor()  \n",
    "    print(f'Answer: {result}')\n",
    "\n",
    "if __name__ == '__main__':\n",
    "    main()"
   ]
  },
  {
   "cell_type": "markdown",
   "metadata": {},
   "source": [
    "Spinner with Processes\n"
   ]
  },
  {
   "cell_type": "code",
   "execution_count": null,
   "metadata": {},
   "outputs": [],
   "source": [
    "import itertools\n",
    "import time\n",
    "from multiprocessing import Process, Event\n",
    "from multiprocessing import synchronize\n",
    "\n",
    "def spin(msg: str, done: synchronize.Event) -> None:\n",
    "    for char in itertools.cycle(r'\\|/-'):\n",
    "        status = f'\\r{char} {msg}'\n",
    "        print(status, end=' ', flush=True)\n",
    "        if done.wait(.2):  \n",
    "            break  \n",
    "    blanks = ' ' * len(status)\n",
    "    print(f'\\r{blanks}\\r', end='')  \n",
    "\n",
    "def slow() -> int:\n",
    "    time.sleep(3)  \n",
    "    return 42\n",
    "\n",
    "def supervisor() -> int:\n",
    "    done = Event()\n",
    "    spinner = Process(target=spin, \n",
    "                      args=('thinking!', done))\n",
    "    print(f'spinner object: {spinner}')  \n",
    "    spinner.start()\n",
    "    result = slow()\n",
    "    done.set()\n",
    "    spinner.join()\n",
    "    return result\n",
    "\n",
    "def main() -> None:\n",
    "    result = supervisor()  \n",
    "    print(f'Answer: {result}')\n",
    "\n",
    "if __name__ == '__main__':\n",
    "    main()"
   ]
  },
  {
   "cell_type": "markdown",
   "metadata": {},
   "source": [
    "Spinner with Coroutines"
   ]
  },
  {
   "cell_type": "code",
   "execution_count": 16,
   "metadata": {},
   "outputs": [
    {
     "name": "stdout",
     "output_type": "stream",
     "text": [
      "spinner object: <Task pending name='Task-10' coro=<spin() running at /var/folders/5z/mztd4xyx4639f9nm6dyjxkpm0000gp/T/ipykernel_12312/287575052.py:7>>\n",
      "| thinking!Answer: 42\n",
      "            \r"
     ]
    }
   ],
   "source": [
    "import asyncio\n",
    "import itertools\n",
    "import nest_asyncio\n",
    "\n",
    "nest_asyncio.apply()\n",
    "\n",
    "async def spin(msg: str) -> None:\n",
    "    for char in itertools.cycle(r'\\|/-'):\n",
    "        status = f'\\r{char} {msg}'\n",
    "        print(status, flush=True, end='')\n",
    "        try:\n",
    "            await asyncio.sleep(.1)\n",
    "        except asyncio.CancelledError:\n",
    "            break\n",
    "    blanks = ' ' * len(status)\n",
    "    print(f'\\r{blanks}\\r', end='')\n",
    "\n",
    "async def slow() -> int:\n",
    "    await asyncio.sleep(3)\n",
    "    return 42\n",
    "\n",
    "def main() -> None:\n",
    "    result = asyncio.run(supervisor())\n",
    "    print(f'Answer: {result}')\n",
    "\n",
    "async def supervisor() -> int:\n",
    "    spinner = asyncio.create_task(spin('thinking!'))\n",
    "    print(f'spinner object: {spinner}')\n",
    "    result = await slow()\n",
    "    spinner.cancel()\n",
    "    return result\n",
    "\n",
    "if __name__ == '__main__':\n",
    "    main()"
   ]
  }
 ],
 "metadata": {
  "kernelspec": {
   "display_name": "venv",
   "language": "python",
   "name": "python3"
  },
  "language_info": {
   "codemirror_mode": {
    "name": "ipython",
    "version": 3
   },
   "file_extension": ".py",
   "mimetype": "text/x-python",
   "name": "python",
   "nbconvert_exporter": "python",
   "pygments_lexer": "ipython3",
   "version": "3.10.13"
  }
 },
 "nbformat": 4,
 "nbformat_minor": 2
}
