{
 "cells": [
  {
   "cell_type": "markdown",
   "metadata": {},
   "source": [
    "List comprehensions or other generator expressions are more readable than using map() or filter()"
   ]
  },
  {
   "cell_type": "code",
   "execution_count": 1,
   "metadata": {},
   "outputs": [
    {
     "data": {
      "text/plain": [
       "'olleh'"
      ]
     },
     "execution_count": 1,
     "metadata": {},
     "output_type": "execute_result"
    }
   ],
   "source": [
    "def reverse(word):\n",
    "    return word[::-1]\n",
    "\n",
    "reverse('hello')"
   ]
  },
  {
   "cell_type": "code",
   "execution_count": 4,
   "metadata": {},
   "outputs": [
    {
     "data": {
      "text/plain": [
       "['kroY weN',\n",
       " 'selegnA soL',\n",
       " 'nodnoL',\n",
       " 'siraP',\n",
       " 'nilreB',\n",
       " 'oykoT',\n",
       " 'yendyS',\n",
       " 'wocsoM',\n",
       " 'nwoT epaC',\n",
       " 'orienaJ ed oiR']"
      ]
     },
     "execution_count": 4,
     "metadata": {},
     "output_type": "execute_result"
    }
   ],
   "source": [
    "dict = {\n",
    "    'New York': 'United States',\n",
    "    'Los Angeles': 'United States',\n",
    "    'London': 'United Kingdom',\n",
    "    'Paris': 'France',\n",
    "    'Berlin': 'Germany',\n",
    "    'Tokyo': 'Japan',\n",
    "    'Sydney': 'Australia',\n",
    "    'Moscow': 'Russia',\n",
    "    'Cape Town': 'South Africa',\n",
    "    'Rio de Janeiro': 'Brazil'\n",
    "}\n",
    "\n",
    "list(map(reverse, dict.keys()))\n",
    "\n"
   ]
  },
  {
   "cell_type": "code",
   "execution_count": 5,
   "metadata": {},
   "outputs": [
    {
     "data": {
      "text/plain": [
       "['kroY weN',\n",
       " 'selegnA soL',\n",
       " 'nodnoL',\n",
       " 'siraP',\n",
       " 'nilreB',\n",
       " 'oykoT',\n",
       " 'yendyS',\n",
       " 'wocsoM',\n",
       " 'nwoT epaC',\n",
       " 'orienaJ ed oiR']"
      ]
     },
     "execution_count": 5,
     "metadata": {},
     "output_type": "execute_result"
    }
   ],
   "source": [
    "[reverse(key) for key in dict.keys()]\n"
   ]
  }
 ],
 "metadata": {
  "kernelspec": {
   "display_name": "Python 3",
   "language": "python",
   "name": "python3"
  },
  "language_info": {
   "codemirror_mode": {
    "name": "ipython",
    "version": 3
   },
   "file_extension": ".py",
   "mimetype": "text/x-python",
   "name": "python",
   "nbconvert_exporter": "python",
   "pygments_lexer": "ipython3",
   "version": "3.10.12"
  },
  "orig_nbformat": 4
 },
 "nbformat": 4,
 "nbformat_minor": 2
}
