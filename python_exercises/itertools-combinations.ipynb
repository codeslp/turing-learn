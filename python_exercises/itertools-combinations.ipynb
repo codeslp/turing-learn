{
 "cells": [
  {
   "cell_type": "markdown",
   "metadata": {},
   "source": [
    "`itertools` is a powerful library in Python that consists of building blocks for creating iterators. It is very efficient and helps in writing complex iterators with simple and compact code. Here are some of the most commonly used itertools structures:\n",
    "\n",
    "1. **`chain()`**: This function is used for treating consecutive sequences as a single sequence. For example, `itertools.chain(\"ABC\", \"DEF\")` results in \"A B C D E F\".\n",
    "\n",
    "2. **`cycle()`**: This function returns an infinite iterator cycling over an iterable. For instance, `itertools.cycle(\"AB\")` will output A B A B A B and so forth endlessly.\n",
    "\n",
    "3. **`count(start, step)`**: This function returns an iterator that generates consecutive integers, starting from 'start' and incrementing by 'step'. For example, `itertools.count(10, 2)` will generate 10, 12, 14, 16, and so on.\n",
    "\n",
    "4. **`repeat(elem, times)`**: This function returns an iterator that generates an element 'elem' for 'times' times. If 'times' is not specified, it generates the element endlessly. For instance, `itertools.repeat(10, 3)` will generate 10, 10, 10.\n",
    "\n",
    "5. **`product(*iterables, repeat=1)`**: This function returns the cartesian product of the provided iterables as tuples. For example, `itertools.product(\"AB\", repeat=2)` will give ('A', 'A'), ('A', 'B'), ('B', 'A'), ('B', 'B').\n",
    "\n",
    "6. **`combinations(iterable, r)`**: This function returns an iterator that produces all combinations of length 'r' in the iterable. For example, `itertools.combinations(\"ABC\", 2)` will result in ('A', 'B'), ('A', 'C'), ('B', 'C').\n",
    "\n",
    "7. **`permutations(iterable, r)`**: This function returns an iterator that produces all permutations of length 'r' in the iterable. For instance, `itertools.permutations(\"ABC\", 2)` will generate ('A', 'B'), ('A', 'C'), ('B', 'A'), ('B', 'C'), ('C', 'A'), ('C', 'B').\n",
    "\n",
    "These functions can be combined in various ways to generate complex iterator behaviors efficiently and intuitively."
   ]
  },
  {
   "cell_type": "code",
   "execution_count": 4,
   "metadata": {},
   "outputs": [
    {
     "name": "stdout",
     "output_type": "stream",
     "text": [
      "0.8333333333333334\n"
     ]
    }
   ],
   "source": [
    "from itertools import combinations\n",
    "\n",
    "list_length = int(input())\n",
    "\n",
    "input_list = input().split()\n",
    "\n",
    "combo_list = list(combinations(input_list, int(input())))\n",
    "\n",
    "num_total_combos = len(combo_list)\n",
    "\n",
    "num_combos_with_a = len([combo for combo in combo_list if 'a' in combo])\n",
    "\n",
    "probability = float(num_combos_with_a/num_total_combos)\n",
    "\n",
    "print(probability)\n"
   ]
  }
 ],
 "metadata": {
  "kernelspec": {
   "display_name": "Python 3",
   "language": "python",
   "name": "python3"
  },
  "language_info": {
   "codemirror_mode": {
    "name": "ipython",
    "version": 3
   },
   "file_extension": ".py",
   "mimetype": "text/x-python",
   "name": "python",
   "nbconvert_exporter": "python",
   "pygments_lexer": "ipython3",
   "version": "3.9.9"
  },
  "orig_nbformat": 4
 },
 "nbformat": 4,
 "nbformat_minor": 2
}
