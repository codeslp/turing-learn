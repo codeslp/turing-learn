{
 "cells": [
  {
   "cell_type": "code",
   "execution_count": 64,
   "metadata": {},
   "outputs": [],
   "source": [
    "import os\n",
    "\n",
    "def all_line_read(dir):\n",
    "    for dirpath, _, filenames in os.walk(dir):\n",
    "        file_count = len(filenames)\n",
    "        file_num = 1\n",
    "        for filename in filenames:\n",
    "                path = os.path.join(dirpath, filename)\n",
    "                with open(path) as file:\n",
    "                    lines = file.readlines()\n",
    "                    line_count = len(lines)\n",
    "                    line_num = 1\n",
    "                    for line in lines:\n",
    "                        try:\n",
    "                            yield (filename, f\"File {file_num}/{file_count}\", f\"Line {line_num}/{line_count}\", str(line))\n",
    "                            line_num += 1\n",
    "                        except OSError:\n",
    "                            pass\n",
    "                file_num += 1\n"
   ]
  },
  {
   "cell_type": "code",
   "execution_count": 65,
   "metadata": {},
   "outputs": [],
   "source": [
    "all = all_line_read(\"/Users/bfaris96/Desktop/TuringEx/turing-learn/long-txts\")"
   ]
  },
  {
   "cell_type": "code",
   "execution_count": 66,
   "metadata": {},
   "outputs": [
    {
     "name": "stdout",
     "output_type": "stream",
     "text": [
      "/Users/bfaris96/Desktop/TuringEx/turing-learn/long-txts/gutenberg.org_cache_epub_11_pg11.txt\n"
     ]
    },
    {
     "data": {
      "text/plain": [
       "('gutenberg.org_cache_epub_11_pg11.txt',\n",
       " 'File1/5',\n",
       " 'Line1/3759',\n",
       " '\\ufeffThe Project Gutenberg eBook of Alice’s Adventures in Wonderland, by Lewis Carroll\\n')"
      ]
     },
     "execution_count": 66,
     "metadata": {},
     "output_type": "execute_result"
    }
   ],
   "source": [
    "next(all)"
   ]
  }
 ],
 "metadata": {
  "kernelspec": {
   "display_name": "venv",
   "language": "python",
   "name": "python3"
  },
  "language_info": {
   "codemirror_mode": {
    "name": "ipython",
    "version": 3
   },
   "file_extension": ".py",
   "mimetype": "text/x-python",
   "name": "python",
   "nbconvert_exporter": "python",
   "pygments_lexer": "ipython3",
   "version": "3.10.13"
  }
 },
 "nbformat": 4,
 "nbformat_minor": 2
}
