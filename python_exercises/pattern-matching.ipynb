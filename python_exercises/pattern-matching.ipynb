{
 "cells": [
  {
   "cell_type": "markdown",
   "metadata": {},
   "source": [
    "Pattern matching is a powerful tool to process records structured like nested mappings and sequences, which we often need to read from JSON APIs and databases with semi-structured schemas, like MongoDB, EdgeDB, or PostgreSQL.  (https://learning.oreilly.com/library/view/fluent-python-2nd/9781492056348/ch03.html#idm46582495648864_)\n",
    "\n",
    "This is beacuse it can work with any mappings from the collections library, not just dicts. The order of the items in the dict/list of mappings also does not matter\n",
    "Also having extra information does not change the match, but you can capture it with **, as you can see in the baseball record case and call below:"
   ]
  },
  {
   "cell_type": "code",
   "execution_count": null,
   "metadata": {},
   "outputs": [],
   "source": [
    "\n",
    "def get_team(record:dict) -> list:\n",
    "    match record:\n",
    "        case {'sport': 'baseball', 'api': 'mlb', 'names': [*names], **baseball_details}:\n",
    "            print(f\"Baseball details: {baseball_details}\")\n",
    "            return names\n",
    "        case {'sport': 'hockey', 'api': 'nhl', 'name': name}:\n",
    "            return [name]\n",
    "        case {'sport': 'hockey'}:\n",
    "            raise ValueError(f\"Invalid 'hockey' record: {record!r}\")\n",
    "        case {'sport': 'wrestling', 'wrestler': name}:\n",
    "            return [name]\n",
    "        case _:\n",
    "            raise ValueError(f'Invalid record: {record!r}')"
   ]
  },
  {
   "cell_type": "code",
   "execution_count": null,
   "metadata": {},
   "outputs": [],
   "source": [
    "from collections import OrderedDict\n",
    "\n",
    "# Test datasets\n",
    "baseball_record = {'sport': 'baseball', 'api': 'mlb', 'names': ['John', 'Alice', 'Mike']}\n",
    "hockey_record = {'sport': 'hockey', 'api': 'nhl', 'name': 'Emma'}\n",
    "invalid_hockey_record = {'sport': 'hockey', 'api': 'nhl'}\n",
    "wrestling_record = {'sport': 'wrestling', 'wrestler': 'Tom'}\n",
    "invalid_record = {'sport': 'football', 'team': 'Manchester United'}\n",
    "spam_record = 'spam, spam, spam'\n",
    "\n",
    "# Test with the baseball record\n",
    "print(get_team(baseball_record))\n",
    "\n",
    "# Test with the hockey record\n",
    "print(get_team(hockey_record))\n",
    "\n",
    "# # Test with the invalid hockey record\n",
    "# print(get_team(invalid_hockey_record))\n",
    "\n",
    "# Test with the wrestling record\n",
    "print(get_team(wrestling_record))\n",
    "\n",
    "# # Test with the invalid record\n",
    "# print(get_team(invalid_record))\n",
    "\n",
    "# Test with the spam record\n",
    "# print(get_team(spam_record))\n",
    "\n",
    "ordered_dict_record = OrderedDict([\n",
    "    ('extra_field', 'Extra Field Value'),\n",
    "    ('api', 'mlb'),\n",
    "    ('sport', 'baseball'),\n",
    "    ('names', ['Alice', 'John', 'Mike']),\n",
    "    ('extra_field_2', 'Another Extra Field')\n",
    "])\n",
    "\n",
    "# Test with the ordered dict record\n",
    "print(get_team(ordered_dict_record))\n"
   ]
  },
  {
   "cell_type": "markdown",
   "metadata": {},
   "source": [
    "## Some different ways to capture data from class instances using pattern matching."
   ]
  },
  {
   "cell_type": "code",
   "execution_count": 18,
   "metadata": {},
   "outputs": [],
   "source": [
    "import typing\n",
    "from datetime import datetime\n",
    "\n",
    "\n",
    "class Log(typing.NamedTuple):\n",
    "    timestamp: datetime\n",
    "    ip: str\n",
    "    crudop: str\n",
    "    url: str\n",
    "    status_code: int\n",
    "    browser: str\n",
    "    transer_bytes: int\n",
    "    duration: float\n",
    "\n",
    "log_data = [\n",
    "    Log(\"2023-06-30 10:25:12\", \"192.0.2.42\", \"GET\", \"/index.html\", 200, \"Mozilla/5.0\", 1256, 0.125),\n",
    "    Log(\"2023-06-30 10:26:07\", \"192.0.2.53\", \"POST\", \"/form_submit\", 302, \"Mozilla/5.0\", 732, 0.256),\n",
    "    Log(\"2023-06-30 10:27:34\", \"192.0.2.28\", \"GET\", \"/favicon.ico\", 404, \"Mozilla/5.0\", 0, 0.010),\n",
    "    Log(\"2023-06-30 10:30:29\", \"192.0.2.42\", \"GET\", \"/img/logo.png\", 200, \"Mozilla/5.0\", 2048, 0.175),\n",
    "    Log(\"2023-06-30 10:32:45\", \"192.0.2.62\", \"POST\", \"/data_upload\", 201, \"Mozilla/5.0\", 5000, 2.345),\n",
    "    Log(\"2023-06-30 10:34:12\", \"192.0.2.75\", \"GET\", \"/big_file.txt\", 200, \"Mozilla/5.0\", 10000, 5.623),\n",
    "    Log(\"2023-06-30 10:36:47\", \"192.0.2.42\", \"POST\", \"/data_processing\", 202, \"Mozilla/5.0\", 1500, 10.789),\n",
    "    Log(\"2023-06-30 10:40:29\", \"192.0.2.85\", \"GET\", \"/another_big_file.txt\", 200, \"Mozilla/5.0\", 12000, 6.129),\n",
    "    Log(\"2023-06-30 10:42:18\", \"192.0.2.92\", \"GET\", \"/slow_page.html\", 200, \"Mozilla/5.0\", 2500, 12.356),\n",
    "]\n",
    "\n",
    "\n"
   ]
  },
  {
   "cell_type": "markdown",
   "metadata": {},
   "source": [
    "## This will match on crud operation based on a class keyword and also ip and time of initial request.  Keyword matches are usually more readable:"
   ]
  },
  {
   "cell_type": "code",
   "execution_count": 25,
   "metadata": {},
   "outputs": [
    {
     "name": "stdout",
     "output_type": "stream",
     "text": [
      "[('2023-06-30 10:26:07', 302), ('2023-06-30 10:32:45', 201), ('2023-06-30 10:36:47', 202)]\n"
     ]
    }
   ],
   "source": [
    "def match_post_keyword():\n",
    "    results = []\n",
    "    for log in log_data:\n",
    "        match log:\n",
    "            case Log(crudop='POST', status_code=post_code, timestamp=ts):\n",
    "                results.append((ts, post_code))\n",
    "    return results\n",
    "\n",
    "# The walrus operator := allows you to assign values to variables as part of an expression.\n",
    "\n",
    "print(results := match_post_keyword())"
   ]
  },
  {
   "cell_type": "markdown",
   "metadata": {},
   "source": [
    "## You can also do this with positional patterns, not using class keywords"
   ]
  },
  {
   "cell_type": "code",
   "execution_count": 26,
   "metadata": {},
   "outputs": [
    {
     "name": "stdout",
     "output_type": "stream",
     "text": [
      "[('2023-06-30 10:26:07', 302), ('2023-06-30 10:32:45', 201), ('2023-06-30 10:36:47', 202)]\n"
     ]
    }
   ],
   "source": [
    "def match_post_positional():    \n",
    "    results = []\n",
    "    for log in log_data:\n",
    "        match log:\n",
    "            case Log(timestamp, _, 'POST', _, post_code, _, _, _):\n",
    "                results.append((timestamp, post_code))\n",
    "    return results\n",
    "\n",
    "print(results := match_post_positional())"
   ]
  },
  {
   "cell_type": "markdown",
   "metadata": {},
   "source": [
    "## This will match on request durations longer than 2 seconds based on class keyword and also capture the crud operation (crudop) and time of initial request:"
   ]
  },
  {
   "cell_type": "code",
   "execution_count": 27,
   "metadata": {},
   "outputs": [
    {
     "name": "stdout",
     "output_type": "stream",
     "text": [
      "[('POST', '2023-06-30 10:32:45', 2.345), ('GET', '2023-06-30 10:34:12', 5.623), ('POST', '2023-06-30 10:36:47', 10.789), ('GET', '2023-06-30 10:40:29', 6.129), ('GET', '2023-06-30 10:42:18', 12.356)]\n"
     ]
    }
   ],
   "source": [
    "def match_slow_requests():\n",
    "    results = []\n",
    "    for log in log_data:\n",
    "        match log:\n",
    "            case Log(crudop=slowcrud, timestamp=slowtime, duration=d) if d > 2:\n",
    "                results.append((slowcrud, slowtime, d))\n",
    "    return results\n",
    "\n",
    "print(results := match_slow_requests())"
   ]
  },
  {
   "cell_type": "code",
   "execution_count": null,
   "metadata": {},
   "outputs": [],
   "source": []
  },
  {
   "cell_type": "markdown",
   "metadata": {},
   "source": [
    "Python 3.10 introduced structural pattern matching via the `match` / `case` syntax, providing a powerful tool to inspect and handle data more expressively and readably. Here are three examples of how it can be used:\n",
    "\n",
    "1. **Basic pattern matching**: The most basic form of pattern matching is matching literals or variable binding:\n",
    "\n",
    "    ```python\n",
    "    def http_response_status(code):\n",
    "        match code:\n",
    "            case 200:\n",
    "                return \"OK\"\n",
    "            case 404:\n",
    "                return \"Not Found\"\n",
    "            case _:\n",
    "                return \"Unknown\"\n",
    "\n",
    "    print(http_response_status(200))  # outputs: \"OK\"\n",
    "    ```\n",
    "\n",
    "    In this example, we're matching the `code` with a few literal values (200, 404) and we use `_` as a catch-all case.\n",
    "\n",
    "2. **Sequence matching**: You can match sequences like lists or tuples, and even use patterns for the items in the sequences:\n",
    "\n",
    "    ```python\n",
    "    def describe_point(point):\n",
    "        match point:\n",
    "            case (0, 0):\n",
    "                return \"Origin\"\n",
    "            case (0, y):\n",
    "                return f\"Y={y}\"\n",
    "            case (x, 0):\n",
    "                return f\"X={x}\"\n",
    "            case (x, y):\n",
    "                return f\"X={x}, Y={y}\"\n",
    "            case _:\n",
    "                raise ValueError(\"Invalid point\")\n",
    "\n",
    "    print(describe_point((10, 0)))  # outputs: \"X=10\"\n",
    "    ```\n",
    "\n",
    "    In this example, we're matching the `point` tuple with various patterns. The `(0, y)` pattern for instance matches a tuple where the first element is 0, and binds the second element to `y`.\n",
    "\n",
    "3. **Class matching**: This form is very powerful when working with classes:\n",
    "\n",
    "    ```python\n",
    "    class Circle:\n",
    "        def __init__(self, radius):\n",
    "            self.radius = radius\n",
    "\n",
    "    class Rectangle:\n",
    "        def __init__(self, width, height):\n",
    "            self.width = width\n",
    "            self.height = height\n",
    "\n",
    "    def area(shape):\n",
    "        match shape:\n",
    "            case Circle(r=radius):\n",
    "                return 3.14 * radius ** 2\n",
    "            case Rectangle(w=width, h=height):\n",
    "                return width * height\n",
    "            case _:\n",
    "                raise TypeError(\"Invalid shape\")\n",
    "\n",
    "    c = Circle(1)\n",
    "    r = Rectangle(2, 3)\n",
    "    print(area(c))  # outputs: 3.14\n",
    "    print(area(r))  # outputs: 6\n",
    "    ```\n",
    "\n",
    "    In this example, we're matching the `shape` object against the Circle and Rectangle classes. The patterns `Circle(r=radius)` and `Rectangle(w=width, h=height)` don't just match the class, but also bind the specified attribute to a variable.\n",
    "\n",
    "This is just scratching the surface, pattern matching in Python 3.10 also supports more complex patterns such as or-patterns, matching on specific attribute values, matching on types, and more.\n"
   ]
  },
  {
   "cell_type": "markdown",
   "metadata": {},
   "source": [
    "Sure, here are two examples for each of sequence matching and class matching.\n",
    "\n",
    "**Sequence matching:**\n",
    "\n",
    "1. Matching patterns within a list:\n",
    "\n",
    "    ```python\n",
    "    def process_data(data):\n",
    "        match data:\n",
    "            case []:\n",
    "                return \"No data\"\n",
    "            case [first_item]:\n",
    "                return f\"One item: {first_item}\"\n",
    "            case [first_item, second_item]:\n",
    "                return f\"Two items: {first_item}, {second_item}\"\n",
    "            case _:\n",
    "                return \"More than two items\"\n",
    "\n",
    "    print(process_data([1, 2, 3]))  # outputs: \"More than two items\"\n",
    "    ```\n",
    "\n",
    "    In this example, we're matching the `data` list with various patterns, including an empty list, a list with one item, and a list with two items.\n",
    "\n",
    "2. Matching nested sequences:\n",
    "\n",
    "    ```python\n",
    "    def identify_shape(shape):\n",
    "        match shape:\n",
    "            case ['circle', _]:\n",
    "                return \"It's a circle.\"\n",
    "            case ['rectangle', width, height]:\n",
    "                return f\"It's a rectangle of width {width} and height {height}.\"\n",
    "            case _:\n",
    "                return \"Unknown shape.\"\n",
    "\n",
    "    print(identify_shape(['rectangle', 5, 10]))  # outputs: \"It's a rectangle of width 5 and height 10.\"\n",
    "    ```\n",
    "\n",
    "    Here, we're matching a list that describes a shape. The first element of the list is a string describing the shape, and the remaining elements are parameters of the shape.\n",
    "\n",
    "**Class matching:**\n",
    "\n",
    "1. Matching instances of a specific class:\n",
    "\n",
    "    ```python\n",
    "    class Dog:\n",
    "        def __init__(self, name):\n",
    "            self.name = name\n",
    "\n",
    "    class Cat:\n",
    "        def __init__(self, name):\n",
    "            self.name = name\n",
    "\n",
    "    def identify_pet(pet):\n",
    "        match pet:\n",
    "            case Dog(name=name):\n",
    "                return f\"It's a dog named {name}\"\n",
    "            case Cat(name=name):\n",
    "                return f\"It's a cat named {name}\"\n",
    "            case _:\n",
    "                return \"Unknown pet\"\n",
    "\n",
    "    d = Dog('Rex')\n",
    "    c = Cat('Whiskers')\n",
    "    print(identify_pet(d))  # outputs: \"It's a dog named Rex\"\n",
    "    print(identify_pet(c))  # outputs: \"It's a cat named Whiskers\"\n",
    "    ```\n",
    "\n",
    "    In this example, we're matching the `pet` object against the Dog and Cat classes, and extracting the name of the pet.\n",
    "\n",
    "2. Matching on specific attribute values:\n",
    "\n",
    "    ```python\n",
    "    class Car:\n",
    "        def __init__(self, brand, electric):\n",
    "            self.brand = brand\n",
    "            self.electric = electric\n",
    "\n",
    "    def describe_car(car):\n",
    "        match car:\n",
    "            case Car(brand=\"Tesla\", electric=True):\n",
    "                return \"It's a Tesla electric car.\"\n",
    "            case Car(brand=brand, electric=False):\n",
    "                return f\"It's a {brand}, but not electric.\"\n",
    "            case _:\n",
    "                return \"Unknown car\"\n",
    "\n",
    "    c1 = Car('Tesla', True)\n",
    "    c2 = Car('Ford', False)\n",
    "    print(describe_car(c1))  # outputs: \"It's a Tesla electric car.\"\n",
    "    print(describe_car(c2))  # outputs: \"It's a Ford, but not electric.\"\n",
    "    ```\n",
    "\n",
    "    Here, we're matching the `car` object with specific attribute values. For example, the pattern `Car(brand=\"Tesla\", electric=True)` matches a Car where `brand` is 'Tesla' and `electric` is True.\n"
   ]
  }
 ],
 "metadata": {
  "kernelspec": {
   "display_name": "Python 3",
   "language": "python",
   "name": "python3"
  },
  "language_info": {
   "codemirror_mode": {
    "name": "ipython",
    "version": 3
   },
   "file_extension": ".py",
   "mimetype": "text/x-python",
   "name": "python",
   "nbconvert_exporter": "python",
   "pygments_lexer": "ipython3",
   "version": "3.10.11"
  },
  "orig_nbformat": 4
 },
 "nbformat": 4,
 "nbformat_minor": 2
}
