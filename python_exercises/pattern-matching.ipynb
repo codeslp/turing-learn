{
 "cells": [
  {
   "cell_type": "markdown",
   "metadata": {},
   "source": [
    "Pattern matching is a powerful tool to process records structured like nested mappings and sequences, which we often need to read from JSON APIs and databases with semi-structured schemas, like MongoDB, EdgeDB, or PostgreSQL.  (https://learning.oreilly.com/library/view/fluent-python-2nd/9781492056348/ch03.html#idm46582495648864_)\n",
    "\n",
    "This is beacuse it can work with any mappings from the collections library, not just dicts. The order of the items in the dict/list of mappings also does not matter\n",
    "Also having extra information does not change the match, but you can capture it with **, as you can see in the baseball record case and call below:"
   ]
  },
  {
   "cell_type": "code",
   "execution_count": 16,
   "metadata": {},
   "outputs": [],
   "source": [
    "\n",
    "def get_team(record:dict) -> list:\n",
    "    match record:\n",
    "        case {'sport': 'baseball', 'api': 'mlb', 'names': [*names], **baseball_details}:\n",
    "            print(f\"Baseball details: {baseball_details}\")\n",
    "            return names\n",
    "        case {'sport': 'hockey', 'api': 'nhl', 'name': name}:\n",
    "            return [name]\n",
    "        case {'sport': 'hockey'}:\n",
    "            raise ValueError(f\"Invalid 'hockey' record: {record!r}\")\n",
    "        case {'sport': 'wrestling', 'wrestler': name}:\n",
    "            return [name]\n",
    "        case _:\n",
    "            raise ValueError(f'Invalid record: {record!r}')"
   ]
  },
  {
   "cell_type": "code",
   "execution_count": 18,
   "metadata": {},
   "outputs": [
    {
     "name": "stdout",
     "output_type": "stream",
     "text": [
      "Baseball details: {}\n",
      "['John', 'Alice', 'Mike']\n",
      "['Emma']\n",
      "['Tom']\n",
      "Baseball details: {'extra_field': 'Extra Field Value', 'extra_field_2': 'Another Extra Field'}\n",
      "['Alice', 'John', 'Mike']\n"
     ]
    }
   ],
   "source": [
    "from collections import OrderedDict\n",
    "\n",
    "# Test datasets\n",
    "baseball_record = {'sport': 'baseball', 'api': 'mlb', 'names': ['John', 'Alice', 'Mike']}\n",
    "hockey_record = {'sport': 'hockey', 'api': 'nhl', 'name': 'Emma'}\n",
    "invalid_hockey_record = {'sport': 'hockey', 'api': 'nhl'}\n",
    "wrestling_record = {'sport': 'wrestling', 'wrestler': 'Tom'}\n",
    "invalid_record = {'sport': 'football', 'team': 'Manchester United'}\n",
    "spam_record = 'spam, spam, spam'\n",
    "\n",
    "# Test with the baseball record\n",
    "print(get_team(baseball_record))\n",
    "\n",
    "# Test with the hockey record\n",
    "print(get_team(hockey_record))\n",
    "\n",
    "# # Test with the invalid hockey record\n",
    "# print(get_team(invalid_hockey_record))\n",
    "\n",
    "# Test with the wrestling record\n",
    "print(get_team(wrestling_record))\n",
    "\n",
    "# # Test with the invalid record\n",
    "# print(get_team(invalid_record))\n",
    "\n",
    "# Test with the spam record\n",
    "# print(get_team(spam_record))\n",
    "\n",
    "ordered_dict_record = OrderedDict([\n",
    "    ('extra_field', 'Extra Field Value'),\n",
    "    ('api', 'mlb'),\n",
    "    ('sport', 'baseball'),\n",
    "    ('names', ['Alice', 'John', 'Mike']),\n",
    "    ('extra_field_2', 'Another Extra Field')\n",
    "])\n",
    "\n",
    "# Test with the ordered dict record\n",
    "print(get_team(ordered_dict_record))\n"
   ]
  }
 ],
 "metadata": {
  "kernelspec": {
   "display_name": "Python 3",
   "language": "python",
   "name": "python3"
  },
  "language_info": {
   "codemirror_mode": {
    "name": "ipython",
    "version": 3
   },
   "file_extension": ".py",
   "mimetype": "text/x-python",
   "name": "python",
   "nbconvert_exporter": "python",
   "pygments_lexer": "ipython3",
   "version": "3.10.11"
  },
  "orig_nbformat": 4
 },
 "nbformat": 4,
 "nbformat_minor": 2
}
