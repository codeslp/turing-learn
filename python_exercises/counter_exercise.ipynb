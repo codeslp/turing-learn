{
 "cells": [
  {
   "cell_type": "markdown",
   "metadata": {},
   "source": [
    "You are given  words. Some words may repeat. For each word, output its number of occurrences. The output order should correspond with the input order of appearance of the word. See the sample input/output for clarification.\n",
    "\n",
    "Note: Each input line ends with a \"\\n\" character.\n",
    "\n",
    "Constraints:\n",
    "\n",
    "The sum of the lengths of all the words do not exceed \n",
    "All the words are composed of lowercase English letters only.\n",
    "\n",
    "Input Format\n",
    "\n",
    "The first line contains the integer, .\n",
    "The next  lines each contain a word.\n",
    "\n",
    "Output Format\n",
    "\n",
    "Output  lines.\n",
    "On the first line, output the number of distinct words from the input.\n",
    "On the second line, output the number of occurrences for each distinct word according to their appearance in the input.\n",
    "\n",
    "Sample Input\n",
    "\n",
    "4\n",
    "bcdef\n",
    "abcdefg\n",
    "bcde\n",
    "bcdef\n",
    "Sample Output\n",
    "\n",
    "3\n",
    "2 1 1\n",
    "Explanation\n",
    "\n",
    "There are  distinct words. Here, \"bcdef\" appears twice in the input at the first and last positions. The other words appear once each. The order of the first appearances are \"bcdef\", \"abcdefg\" and \"bcde\" which corresponds to the output."
   ]
  },
  {
   "cell_type": "markdown",
   "metadata": {},
   "source": [
    "My solution:"
   ]
  },
  {
   "cell_type": "code",
   "execution_count": null,
   "metadata": {},
   "outputs": [],
   "source": [
    "# Enter your code here. Read input from STDIN. Print output to STDOUT\n",
    "\n",
    "from collections import Counter\n",
    "\n",
    "num_words = int(input())\n",
    "word_list = list()\n",
    "for _ in range(num_words):\n",
    "    word_list.append(str(input()))\n",
    "word_counter = Counter(word_list)\n",
    "\n",
    "print(len(word_counter))\n",
    "val_str = ''\n",
    "empty = ''\n",
    "for value in word_counter.values():\n",
    "    val_str = empty.join([val_str, str(value)])\n",
    "    empty = ' '\n",
    "print(val_str)"
   ]
  },
  {
   "cell_type": "markdown",
   "metadata": {},
   "source": [
    "Another, probably better solution without collections:"
   ]
  },
  {
   "cell_type": "code",
   "execution_count": null,
   "metadata": {},
   "outputs": [],
   "source": [
    "m = {}\n",
    "for _ in range(int(input())):\n",
    "    word = input()\n",
    "    m[word] = m.get(word,0) + 1\n",
    "\n",
    "print(len(m))\n",
    "print(*m.values())"
   ]
  },
  {
   "cell_type": "code",
   "execution_count": 41,
   "metadata": {},
   "outputs": [
    {
     "name": "stdout",
     "output_type": "stream",
     "text": [
      "----ee----\n",
      "---------e--------\n",
      "------------d-------------\n",
      "-----------------d----------------\n"
     ]
    },
    {
     "data": {
      "text/plain": [
       "'e-d-c-b-a-b-c-d-e'"
      ]
     },
     "execution_count": 41,
     "metadata": {},
     "output_type": "execute_result"
    }
   ],
   "source": [
    "def print_rangoli(size):\n",
    "    # your code goes here\n",
    "    letters = ['a','b','c','d','e','f','g','h','i','j','k','l','m','n','o','p','q','r','s','t','u','v','w','x','y','z']\n",
    "    middle_line = '-'.join(letters[:5][::-1]) +'-' + '-'.join(letters[1:5])\n",
    "    line = []\n",
    "    rang_line = str()\n",
    "    # while len(rang_line)<len(middle_line):\n",
    "    #     fill = \n",
    "    #     rang_line = ''.join(line)\n",
    "\n",
    "    length_const = ((size-1)*2)+1\n",
    "    fill=[]\n",
    "    # for i in range(size-1):\n",
    "    #     for j in range(int((length_const-1)/2)):\n",
    "    #         fill.append('-')\n",
    "    for i in range(int(length_const/2)):\n",
    "        for j in range(int((length_const-1)/2)):\n",
    "            fill.append('-')\n",
    "\n",
    "        line_to_join = [''.join(fill), middle_line[i], middle_line[i],''.join(fill)]\n",
    "\n",
    "        line = ''.join(line_to_join)\n",
    "        print(line)\n",
    "\n",
    "\n",
    "    \n",
    "    \n",
    "    \n",
    "    \n",
    "    return middle_line\n",
    "\n",
    "print_rangoli(5)"
   ]
  }
 ],
 "metadata": {
  "kernelspec": {
   "display_name": "venv",
   "language": "python",
   "name": "python3"
  },
  "language_info": {
   "codemirror_mode": {
    "name": "ipython",
    "version": 3
   },
   "file_extension": ".py",
   "mimetype": "text/x-python",
   "name": "python",
   "nbconvert_exporter": "python",
   "pygments_lexer": "ipython3",
   "version": "3.10.12"
  }
 },
 "nbformat": 4,
 "nbformat_minor": 2
}
