{
 "cells": [
  {
   "cell_type": "code",
   "execution_count": 1,
   "metadata": {},
   "outputs": [],
   "source": [
    "d = {'a':1, 'b':2, 'c':3}"
   ]
  },
  {
   "cell_type": "code",
   "execution_count": 3,
   "metadata": {},
   "outputs": [
    {
     "name": "stdout",
     "output_type": "stream",
     "text": [
      "{1: 'a', 2: 'b', 3: 'c'}\n"
     ]
    }
   ],
   "source": [
    "flipped_dict = {value: key for key, value in d.items()}\n",
    "print(flipped_dict)"
   ]
  },
  {
   "cell_type": "markdown",
   "metadata": {},
   "source": [
    "This will, given a string containing several (space-separated) words, create a dict in which the keys are the words, and the values are the number of vowels in each word:"
   ]
  },
  {
   "cell_type": "code",
   "execution_count": 6,
   "metadata": {},
   "outputs": [
    {
     "name": "stdout",
     "output_type": "stream",
     "text": [
      "{'this': 1, 'is': 1, 'an': 1, 'easy': 2, 'test': 1}\n"
     ]
    }
   ],
   "source": [
    "vowel_count_dict = dict()\n",
    "\n",
    "str = \"this is an easy test\"\n",
    "\n",
    "sentence = list(str.split())\n",
    "\n",
    "vowel_count_dict = {word: len([letter for letter in word if letter in 'aeiou']) for word in sentence}\n",
    "\n",
    "print(vowel_count_dict)"
   ]
  },
  {
   "cell_type": "markdown",
   "metadata": {},
   "source": [
    "This will scan a directory and get the size of each file init with filename as key and size as value"
   ]
  },
  {
   "cell_type": "code",
   "execution_count": 5,
   "metadata": {},
   "outputs": [
    {
     "name": "stdout",
     "output_type": "stream",
     "text": [
      "{'gutenberg.org_cache_epub_11_pg11.txt': 174280, 'gutenberg.org_cache_epub_1513_pg1513.txt': 169353, 'gutenberg.org_cache_epub_345_pg345.txt': 881691, 'gutenberg.org_files_98_98-0.txt': 807231, 'gutenberg.org_cache_epub_6761_pg6761.txt': 994256}\n"
     ]
    }
   ],
   "source": [
    "import os\n",
    "\n",
    "def get_file_sizes_dict(dir):\n",
    "    return {file: os.path.getsize(os.path.join(dir,file)) for file in os.listdir(dir)}\n",
    "\n",
    "file_sizes = get_file_sizes_dict(\"/Users/bfaris96/Desktop/TuringEx/turing-learn/long-txts\")\n",
    "\n",
    "print(file_sizes)"
   ]
  }
 ],
 "metadata": {
  "kernelspec": {
   "display_name": "Python 3",
   "language": "python",
   "name": "python3"
  },
  "language_info": {
   "codemirror_mode": {
    "name": "ipython",
    "version": 3
   },
   "file_extension": ".py",
   "mimetype": "text/x-python",
   "name": "python",
   "nbconvert_exporter": "python",
   "pygments_lexer": "ipython3",
   "version": "3.10.12"
  },
  "orig_nbformat": 4
 },
 "nbformat": 4,
 "nbformat_minor": 2
}
