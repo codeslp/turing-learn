{
 "cells": [
  {
   "cell_type": "markdown",
   "metadata": {},
   "source": [
    "In this exercise, write a generator function whose argument must be iterable. With each iteration, the generator will return a two-element tuple. The first element in the tuple will be an integer indicating how many seconds have passed since the previous iteration. The tuple’s second element will be the next item from the passed argument.\n",
    "\n",
    "Note that the timing should be relative to the previous iteration, not when the generator was first created or invoked. Thus the timing number in the first iteration will be 0.     https://learning.oreilly.com/library/view/python-workout/9781617295508/OEBPS/Text/10.xhtml#heading_id_19\n",
    "\n",
    "\n",
    "This will build on code from Exercise 48 /Users/bfaris96/Desktop/TuringEx/turing-learn/python_exercises/generator_file_line_reader.ipynb"
   ]
  },
  {
   "cell_type": "code",
   "execution_count": 70,
   "metadata": {},
   "outputs": [],
   "source": [
    "import os\n",
    "import time\n",
    "\n",
    "def all_line_read(dir):\n",
    "    last_time = None\n",
    "    for dirpath, _, filenames in os.walk(dir):\n",
    "        file_count = len(filenames)\n",
    "        file_num = 1\n",
    "        for filename in filenames:\n",
    "                path = os.path.join(dirpath, filename)\n",
    "                with open(path) as file:\n",
    "                    lines = file.readlines()\n",
    "                    line_count = len(lines)\n",
    "                    line_num = 1\n",
    "                    for line in lines:\n",
    "                        try:\n",
    "                            current_time = time.perf_counter()\n",
    "                            delta = \"%.3f s\" % (current_time - (last_time or current_time))\n",
    "                            last_time = time.perf_counter()\n",
    "                            yield (delta, \n",
    "                                   (filename, f\"File {file_num}/{file_count}\", \n",
    "                                   f\"Line {line_num}/{line_count}\", str(line)))\n",
    "                            line_num += 1\n",
    "                        except OSError:\n",
    "                            pass\n",
    "                file_num += 1"
   ]
  },
  {
   "cell_type": "code",
   "execution_count": 71,
   "metadata": {},
   "outputs": [],
   "source": [
    "all = all_line_read(\"/Users/bfaris96/Desktop/TuringEx/turing-learn/long-txts\")"
   ]
  },
  {
   "cell_type": "code",
   "execution_count": 74,
   "metadata": {},
   "outputs": [
    {
     "data": {
      "text/plain": [
       "('2.168 s',\n",
       " ('gutenberg.org_cache_epub_11_pg11.txt',\n",
       "  'File 1/5',\n",
       "  'Line 3/3759',\n",
       "  'This eBook is for the use of anyone anywhere in the United States and\\n'))"
      ]
     },
     "execution_count": 74,
     "metadata": {},
     "output_type": "execute_result"
    }
   ],
   "source": [
    "next(all)"
   ]
  }
 ],
 "metadata": {
  "kernelspec": {
   "display_name": "venv",
   "language": "python",
   "name": "python3"
  },
  "language_info": {
   "codemirror_mode": {
    "name": "ipython",
    "version": 3
   },
   "file_extension": ".py",
   "mimetype": "text/x-python",
   "name": "python",
   "nbconvert_exporter": "python",
   "pygments_lexer": "ipython3",
   "version": "3.10.13"
  }
 },
 "nbformat": 4,
 "nbformat_minor": 2
}
