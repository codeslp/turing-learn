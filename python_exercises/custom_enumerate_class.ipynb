{
 "cells": [
  {
   "cell_type": "markdown",
   "metadata": {},
   "source": [
    "Built-in enumerate looks like this:"
   ]
  },
  {
   "cell_type": "code",
   "execution_count": null,
   "metadata": {},
   "outputs": [],
   "source": [
    "for index, letter in enumerate('abc'):\n",
    "    print(f'{index}: {letter}')"
   ]
  },
  {
   "cell_type": "code",
   "execution_count": 44,
   "metadata": {},
   "outputs": [
    {
     "name": "stdout",
     "output_type": "stream",
     "text": [
      "0 foo\n",
      "1 bar\n",
      "2 baz\n"
     ]
    }
   ],
   "source": [
    "etuples = enumerate(['foo', 'bar', 'baz'])\n",
    "for i, j in etuples:\n",
    "    print(i, j)"
   ]
  },
  {
   "cell_type": "markdown",
   "metadata": {},
   "source": [
    "Create your own MyEnumerate class, such that someone can use it instead of enumerate. It will need to return a tuple with each iteration, with the first element in the tuple being the index (starting with 0) and the second element being the current element from the underlying data structure. Trying to use MyEnumerate with a noniterable argument will result in an error.\n",
    "\n",
    "This first (my) one uses uses enumerate (but apparently thats not correct):"
   ]
  },
  {
   "cell_type": "code",
   "execution_count": 69,
   "metadata": {},
   "outputs": [],
   "source": [
    "class MyEnumerate():\n",
    "    def __init__(self, iterable, start:int=0):\n",
    "        self.start = start\n",
    "        iter(iterable)    # CONGRATULATIONS YOU USED DUCK TYPING!\n",
    "        if not iterable:\n",
    "            self.iterable = []\n",
    "        else:\n",
    "            self.iterable = iterable\n",
    "        \n",
    "    def __iter__(self):\n",
    "        for i, j in enumerate(self.iterable, self.start):\n",
    "            yield (i, j)\n",
    "            \n",
    "    def __repr__(self):\n",
    "        return [(f'{i!r}, {j!r}\\n') for i, j in iter(self)]\n",
    "    \n",
    "    def __str__(self):\n",
    "        return ', '.join(f'({i}, {j})\\n' for i, j in self)\n"
   ]
  },
  {
   "cell_type": "code",
   "execution_count": 55,
   "metadata": {},
   "outputs": [],
   "source": [
    "class MyCorrectEnumerate():\n",
    "    def __init__(self, data, start: int=0):\n",
    "        self.data = data\n",
    "        self.index = start\n",
    "\n",
    "    def __iter__(self):\n",
    "        return self\n",
    "    \n",
    "    def __next__(self):\n",
    "        if self.index >= len(self.data):\n",
    "            raise StopIteration\n",
    "        value = (self.index, self.data[self.index])\n",
    "        self.index += 1\n",
    "        return value\n",
    "    "
   ]
  },
  {
   "cell_type": "code",
   "execution_count": 70,
   "metadata": {},
   "outputs": [
    {
     "name": "stdout",
     "output_type": "stream",
     "text": [
      "2, foo\n",
      "3, bar\n",
      "4, baz\n"
     ]
    },
    {
     "ename": "TypeError",
     "evalue": "'int' object is not iterable",
     "output_type": "error",
     "traceback": [
      "\u001b[0;31m---------------------------------------------------------------------------\u001b[0m",
      "\u001b[0;31mTypeError\u001b[0m                                 Traceback (most recent call last)",
      "\u001b[1;32m/Users/bfaris96/Desktop/TuringEx/turing-learn/python_exercises/custom_enumerate_class.ipynb Cell 7\u001b[0m line \u001b[0;36m5\n\u001b[1;32m      <a href='vscode-notebook-cell:/Users/bfaris96/Desktop/TuringEx/turing-learn/python_exercises/custom_enumerate_class.ipynb#W4sZmlsZQ%3D%3D?line=1'>2</a>\u001b[0m \u001b[39mfor\u001b[39;00m i, j \u001b[39min\u001b[39;00m etuples:\n\u001b[1;32m      <a href='vscode-notebook-cell:/Users/bfaris96/Desktop/TuringEx/turing-learn/python_exercises/custom_enumerate_class.ipynb#W4sZmlsZQ%3D%3D?line=2'>3</a>\u001b[0m     \u001b[39mprint\u001b[39m(\u001b[39mf\u001b[39m\u001b[39m'\u001b[39m\u001b[39m{\u001b[39;00mi\u001b[39m}\u001b[39;00m\u001b[39m, \u001b[39m\u001b[39m{\u001b[39;00mj\u001b[39m}\u001b[39;00m\u001b[39m'\u001b[39m)\n\u001b[0;32m----> <a href='vscode-notebook-cell:/Users/bfaris96/Desktop/TuringEx/turing-learn/python_exercises/custom_enumerate_class.ipynb#W4sZmlsZQ%3D%3D?line=4'>5</a>\u001b[0m etuples \u001b[39m=\u001b[39m MyEnumerate(\u001b[39m9\u001b[39;49m)\n\u001b[1;32m      <a href='vscode-notebook-cell:/Users/bfaris96/Desktop/TuringEx/turing-learn/python_exercises/custom_enumerate_class.ipynb#W4sZmlsZQ%3D%3D?line=5'>6</a>\u001b[0m \u001b[39mfor\u001b[39;00m i, j \u001b[39min\u001b[39;00m etuples:\n\u001b[1;32m      <a href='vscode-notebook-cell:/Users/bfaris96/Desktop/TuringEx/turing-learn/python_exercises/custom_enumerate_class.ipynb#W4sZmlsZQ%3D%3D?line=6'>7</a>\u001b[0m     \u001b[39mprint\u001b[39m(\u001b[39mf\u001b[39m\u001b[39m'\u001b[39m\u001b[39m{\u001b[39;00mi\u001b[39m}\u001b[39;00m\u001b[39m, \u001b[39m\u001b[39m{\u001b[39;00mj\u001b[39m}\u001b[39;00m\u001b[39m'\u001b[39m)\n",
      "\u001b[1;32m/Users/bfaris96/Desktop/TuringEx/turing-learn/python_exercises/custom_enumerate_class.ipynb Cell 7\u001b[0m line \u001b[0;36m4\n\u001b[1;32m      <a href='vscode-notebook-cell:/Users/bfaris96/Desktop/TuringEx/turing-learn/python_exercises/custom_enumerate_class.ipynb#W4sZmlsZQ%3D%3D?line=1'>2</a>\u001b[0m \u001b[39mdef\u001b[39;00m \u001b[39m__init__\u001b[39m(\u001b[39mself\u001b[39m, iterable, start:\u001b[39mint\u001b[39m\u001b[39m=\u001b[39m\u001b[39m0\u001b[39m):\n\u001b[1;32m      <a href='vscode-notebook-cell:/Users/bfaris96/Desktop/TuringEx/turing-learn/python_exercises/custom_enumerate_class.ipynb#W4sZmlsZQ%3D%3D?line=2'>3</a>\u001b[0m     \u001b[39mself\u001b[39m\u001b[39m.\u001b[39mstart \u001b[39m=\u001b[39m start\n\u001b[0;32m----> <a href='vscode-notebook-cell:/Users/bfaris96/Desktop/TuringEx/turing-learn/python_exercises/custom_enumerate_class.ipynb#W4sZmlsZQ%3D%3D?line=3'>4</a>\u001b[0m     \u001b[39miter\u001b[39;49m(iterable)    \u001b[39m# CONGRATULATIONS YOU USED DUCK TYPING!\u001b[39;00m\n\u001b[1;32m      <a href='vscode-notebook-cell:/Users/bfaris96/Desktop/TuringEx/turing-learn/python_exercises/custom_enumerate_class.ipynb#W4sZmlsZQ%3D%3D?line=4'>5</a>\u001b[0m     \u001b[39mif\u001b[39;00m \u001b[39mnot\u001b[39;00m iterable:\n\u001b[1;32m      <a href='vscode-notebook-cell:/Users/bfaris96/Desktop/TuringEx/turing-learn/python_exercises/custom_enumerate_class.ipynb#W4sZmlsZQ%3D%3D?line=5'>6</a>\u001b[0m         \u001b[39mself\u001b[39m\u001b[39m.\u001b[39miterable \u001b[39m=\u001b[39m []\n",
      "\u001b[0;31mTypeError\u001b[0m: 'int' object is not iterable"
     ]
    }
   ],
   "source": [
    "etuples = MyEnumerate(['foo', 'bar', 'baz'], 2)\n",
    "for i, j in etuples:\n",
    "    print(f'{i}, {j}')\n",
    "\n",
    "etuples = MyEnumerate(9)\n",
    "for i, j in etuples:\n",
    "    print(f'{i}, {j}')"
   ]
  },
  {
   "cell_type": "code",
   "execution_count": 66,
   "metadata": {},
   "outputs": [
    {
     "name": "stdout",
     "output_type": "stream",
     "text": [
      "0, foo\n",
      "1, bar\n",
      "2, baz\n"
     ]
    },
    {
     "ename": "TypeError",
     "evalue": "object of type 'int' has no len()",
     "output_type": "error",
     "traceback": [
      "\u001b[0;31m---------------------------------------------------------------------------\u001b[0m",
      "\u001b[0;31mTypeError\u001b[0m                                 Traceback (most recent call last)",
      "\u001b[1;32m/Users/bfaris96/Desktop/TuringEx/turing-learn/python_exercises/custom_enumerate_class.ipynb Cell 8\u001b[0m line \u001b[0;36m6\n\u001b[1;32m      <a href='vscode-notebook-cell:/Users/bfaris96/Desktop/TuringEx/turing-learn/python_exercises/custom_enumerate_class.ipynb#X10sZmlsZQ%3D%3D?line=2'>3</a>\u001b[0m     \u001b[39mprint\u001b[39m(\u001b[39mf\u001b[39m\u001b[39m'\u001b[39m\u001b[39m{\u001b[39;00mi\u001b[39m}\u001b[39;00m\u001b[39m, \u001b[39m\u001b[39m{\u001b[39;00mj\u001b[39m}\u001b[39;00m\u001b[39m'\u001b[39m)\n\u001b[1;32m      <a href='vscode-notebook-cell:/Users/bfaris96/Desktop/TuringEx/turing-learn/python_exercises/custom_enumerate_class.ipynb#X10sZmlsZQ%3D%3D?line=4'>5</a>\u001b[0m etuples \u001b[39m=\u001b[39m MyCorrectEnumerate(\u001b[39m9\u001b[39m)\n\u001b[0;32m----> <a href='vscode-notebook-cell:/Users/bfaris96/Desktop/TuringEx/turing-learn/python_exercises/custom_enumerate_class.ipynb#X10sZmlsZQ%3D%3D?line=5'>6</a>\u001b[0m \u001b[39mfor\u001b[39;00m i, j \u001b[39min\u001b[39;00m etuples:\n\u001b[1;32m      <a href='vscode-notebook-cell:/Users/bfaris96/Desktop/TuringEx/turing-learn/python_exercises/custom_enumerate_class.ipynb#X10sZmlsZQ%3D%3D?line=6'>7</a>\u001b[0m     \u001b[39mprint\u001b[39m(\u001b[39mf\u001b[39m\u001b[39m'\u001b[39m\u001b[39m{\u001b[39;00mi\u001b[39m}\u001b[39;00m\u001b[39m, \u001b[39m\u001b[39m{\u001b[39;00mj\u001b[39m}\u001b[39;00m\u001b[39m'\u001b[39m)\n",
      "\u001b[1;32m/Users/bfaris96/Desktop/TuringEx/turing-learn/python_exercises/custom_enumerate_class.ipynb Cell 8\u001b[0m line \u001b[0;36m1\n\u001b[1;32m      <a href='vscode-notebook-cell:/Users/bfaris96/Desktop/TuringEx/turing-learn/python_exercises/custom_enumerate_class.ipynb#X10sZmlsZQ%3D%3D?line=8'>9</a>\u001b[0m \u001b[39mdef\u001b[39;00m \u001b[39m__next__\u001b[39m(\u001b[39mself\u001b[39m):\n\u001b[0;32m---> <a href='vscode-notebook-cell:/Users/bfaris96/Desktop/TuringEx/turing-learn/python_exercises/custom_enumerate_class.ipynb#X10sZmlsZQ%3D%3D?line=9'>10</a>\u001b[0m     \u001b[39mif\u001b[39;00m \u001b[39mself\u001b[39m\u001b[39m.\u001b[39mindex \u001b[39m>\u001b[39m\u001b[39m=\u001b[39m \u001b[39mlen\u001b[39;49m(\u001b[39mself\u001b[39;49m\u001b[39m.\u001b[39;49mdata):\n\u001b[1;32m     <a href='vscode-notebook-cell:/Users/bfaris96/Desktop/TuringEx/turing-learn/python_exercises/custom_enumerate_class.ipynb#X10sZmlsZQ%3D%3D?line=10'>11</a>\u001b[0m         \u001b[39mraise\u001b[39;00m \u001b[39mStopIteration\u001b[39;00m\n\u001b[1;32m     <a href='vscode-notebook-cell:/Users/bfaris96/Desktop/TuringEx/turing-learn/python_exercises/custom_enumerate_class.ipynb#X10sZmlsZQ%3D%3D?line=11'>12</a>\u001b[0m     value \u001b[39m=\u001b[39m (\u001b[39mself\u001b[39m\u001b[39m.\u001b[39mindex, \u001b[39mself\u001b[39m\u001b[39m.\u001b[39mdata[\u001b[39mself\u001b[39m\u001b[39m.\u001b[39mindex])\n",
      "\u001b[0;31mTypeError\u001b[0m: object of type 'int' has no len()"
     ]
    }
   ],
   "source": [
    "etuples = MyCorrectEnumerate(['foo', 'bar', 'baz'])\n",
    "for i, j in etuples:\n",
    "    print(f'{i}, {j}')\n",
    "\n",
    "etuples = MyCorrectEnumerate(9)\n",
    "for i, j in etuples:\n",
    "    print(f'{i}, {j}')"
   ]
  }
 ],
 "metadata": {
  "kernelspec": {
   "display_name": "venv",
   "language": "python",
   "name": "python3"
  },
  "language_info": {
   "codemirror_mode": {
    "name": "ipython",
    "version": 3
   },
   "file_extension": ".py",
   "mimetype": "text/x-python",
   "name": "python",
   "nbconvert_exporter": "python",
   "pygments_lexer": "ipython3",
   "version": "3.10.12"
  }
 },
 "nbformat": 4,
 "nbformat_minor": 2
}
