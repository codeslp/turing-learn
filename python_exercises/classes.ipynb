{
 "cells": [
  {
   "cell_type": "code",
   "execution_count": 19,
   "metadata": {},
   "outputs": [
    {
     "name": "stdout",
     "output_type": "stream",
     "text": [
      "[Scoop(flavor='chocolate'), Scoop(flavor='vanilla'), Scoop(flavor='persimmon')]\n"
     ]
    }
   ],
   "source": [
    "from dataclasses import dataclass, field\n",
    "\n",
    "@dataclass\n",
    "class Scoop:\n",
    "    flavor: str\n",
    "\n",
    "def create_scoops(*args):\n",
    "    scoop_list = [Scoop(arg) for arg in args]\n",
    "    return scoop_list\n",
    "\n",
    "print(create_scoops(\"chocolate\", \"vanilla\", \"persimmon\"))\n"
   ]
  },
  {
   "cell_type": "markdown",
   "metadata": {},
   "source": [
    "Composition is arguably more important than inheritance -- the way in which objects contain other objects."
   ]
  },
  {
   "cell_type": "code",
   "execution_count": 34,
   "metadata": {},
   "outputs": [],
   "source": [
    "@dataclass\n",
    "class Bowl:\n",
    "    scoops: list = field(default_factory=list)\n",
    "\n",
    "    def add_scoop(self, *flavors):\n",
    "        for flavor in flavors:\n",
    "            self.scoops.append(Scoop(flavor))\n",
    "    \n",
    "\n",
    "    # Modifying standard repr to return only each flavor of each scoop, and return on new line on new line;\n",
    "    def __repr__(self):\n",
    "        return '\\n'.join(s.flavor for s in self.scoops)\n"
   ]
  },
  {
   "cell_type": "code",
   "execution_count": 35,
   "metadata": {},
   "outputs": [
    {
     "name": "stdout",
     "output_type": "stream",
     "text": [
      "vanilla\n",
      "vanilla\n",
      "strawberry\n"
     ]
    }
   ],
   "source": [
    "bowl = Bowl()\n",
    "\n",
    "bowl.add_scoop(\"vanilla\")\n",
    "bowl.add_scoop(\"vanilla\", \"strawberry\")\n",
    "\n",
    "print(bowl)"
   ]
  },
  {
   "cell_type": "code",
   "execution_count": 40,
   "metadata": {},
   "outputs": [],
   "source": [
    "from dataclasses import dataclass, field\n",
    "\n",
    "@dataclass\n",
    "class Beverage:\n",
    "    name: str\n",
    "    temp: int\n",
    "    diet: bool = False\n",
    "\n",
    "def create_drink(drink_name,drink_temp=33, diet=False):\n",
    "    drink = Beverage(name = drink_name, temp = drink_temp)\n",
    "    return drink\n"
   ]
  },
  {
   "cell_type": "code",
   "execution_count": null,
   "metadata": {},
   "outputs": [],
   "source": [
    "print(create_drink(\"coke\", 30))\n",
    "print(create_drink(\"bebis\", 20))\n",
    "print(create_drink(\"water\"))"
   ]
  },
  {
   "cell_type": "code",
   "execution_count": 58,
   "metadata": {},
   "outputs": [],
   "source": [
    "@dataclass\n",
    "class SodaFountain:\n",
    "    sodas: list = field(default_factory=list)\n",
    "\n",
    "    def add_sodas(self, *drink_names, temp=33, diet = False):\n",
    "        for drink_name in drink_names:\n",
    "            self.sodas.append(Beverage(drink_name, temp, diet))\n",
    "\n",
    "    def __repr__(self):\n",
    "        return '\\n'.join(f\"{d.name}, {d.temp}, {d.diet}\" for d in self.sodas)"
   ]
  },
  {
   "cell_type": "code",
   "execution_count": 59,
   "metadata": {},
   "outputs": [],
   "source": [
    "fountain = SodaFountain()\n",
    "\n",
    "fountain.add_sodas(\"bebis\", \"koka\")"
   ]
  },
  {
   "cell_type": "code",
   "execution_count": 60,
   "metadata": {},
   "outputs": [
    {
     "name": "stdout",
     "output_type": "stream",
     "text": [
      "bebis, 33, False\n",
      "koka, 33, False\n"
     ]
    }
   ],
   "source": [
    "print(fountain)"
   ]
  },
  {
   "cell_type": "markdown",
   "metadata": {},
   "source": [
    "## This is a logfile class. Uses the open() function"
   ]
  },
  {
   "cell_type": "code",
   "execution_count": 16,
   "metadata": {},
   "outputs": [],
   "source": [
    "class LogFile:\n",
    "    \"\"\"\n",
    "    The LogFile class is used for creating a log file and writing messages to it.\n",
    "\n",
    "    Attributes\n",
    "    ----------\n",
    "    file : file object\n",
    "        The file object that represents the log file.\n",
    "\n",
    "    Methods\n",
    "    -------\n",
    "    write(message)\n",
    "        Writes a message to the log file.\n",
    "    \"\"\"\n",
    "\n",
    "    def __init__(self, filename):\n",
    "        \"\"\"\n",
    "        Constructs a new 'LogFile' object.\n",
    "\n",
    "        Parameters\n",
    "        ----------\n",
    "        filename : str\n",
    "            The name of the log file.\n",
    "        \"\"\"\n",
    "        # The 'open' function is used with the 'a' (append) mode.\n",
    "        # This means that the file is opened for writing,\n",
    "        # but data is appended to the end of the file instead of overwriting existing content.\n",
    "        # If the file does not exist, it will be created.\n",
    "        self.file = open(filename, 'a')\n",
    "\n",
    "    def write(self, message):\n",
    "        \"\"\"\n",
    "        Writes a message to the log file.\n",
    "\n",
    "        Parameters\n",
    "        ----------\n",
    "        message : str\n",
    "            The message to write to the log file.\n",
    "        \"\"\"\n",
    "        self.file.write(message)"
   ]
  },
  {
   "cell_type": "code",
   "execution_count": 18,
   "metadata": {},
   "outputs": [],
   "source": [
    "\n",
    "# Here's how to use the LogFile class:\n",
    "log = LogFile('log.txt')  # Create a new LogFile object for the file 'log.txt'\n",
    "log.write('Hello, world!')  # Write the message 'Hello, world!' to the log file"
   ]
  }
 ],
 "metadata": {
  "kernelspec": {
   "display_name": "Python 3",
   "language": "python",
   "name": "python3"
  },
  "language_info": {
   "codemirror_mode": {
    "name": "ipython",
    "version": 3
   },
   "file_extension": ".py",
   "mimetype": "text/x-python",
   "name": "python",
   "nbconvert_exporter": "python",
   "pygments_lexer": "ipython3",
   "version": "3.10.12"
  },
  "orig_nbformat": 4
 },
 "nbformat": 4,
 "nbformat_minor": 2
}
