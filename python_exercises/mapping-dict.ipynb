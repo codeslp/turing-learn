{
 "cells": [
  {
   "cell_type": "markdown",
   "metadata": {},
   "source": [
    "Don't use a bunch of if elifs to change fields, dummy! \n",
    "\n",
    "## Use mapping dictionaries!\n",
    "\n",
    "As used in your car_db python project:"
   ]
  },
  {
   "cell_type": "code",
   "execution_count": null,
   "metadata": {},
   "outputs": [],
   "source": [
    "def owner_to_int(df):\n",
    "    map_dict = {'1st':1, '2nd': 2, '3rd': 3, '4th': 4, '5th': 5}\n",
    "\n",
    "    df['No_of_Owners'] = df['No_of_Owners'].map(map_dict)\n",
    "\n",
    "    return df"
   ]
  },
  {
   "cell_type": "code",
   "execution_count": null,
   "metadata": {},
   "outputs": [],
   "source": [
    "def shorten_fuel_type(df):\n",
    "    map_dict = {'petrol+cng': 'petrol_cng', 'petrol+electric': 'petrol_electric'}\n",
    "\n",
    "    df['Fuel_Type'] = df['No_of_Owners'].map(map_dict)\n",
    "\n",
    "    return df"
   ]
  }
 ],
 "metadata": {
  "language_info": {
   "name": "python"
  },
  "orig_nbformat": 4
 },
 "nbformat": 4,
 "nbformat_minor": 2
}
