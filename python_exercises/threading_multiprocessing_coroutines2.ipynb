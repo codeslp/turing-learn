{
 "cells": [
  {
   "cell_type": "markdown",
   "metadata": {},
   "source": [
    "Three simple programs to download images of 20 country flags from the web. The first one, flags.py, runs sequentially: it only requests the next image when the previous one is downloaded and saved locally. The other two scripts make concurrent downloads: they request several images practically at the same time, and save them as they arrive. The flags_threadpool.py script uses the concurrent.futures package, while flags_asyncio.py uses asyncio.      https://learning.oreilly.com/library/view/fluent-python-2nd/9781492056348/ch20.html#idm46582389726560"
   ]
  },
  {
   "cell_type": "markdown",
   "metadata": {},
   "source": [
    "A synchronous Sequential Download Script:\n"
   ]
  },
  {
   "cell_type": "code",
   "execution_count": 2,
   "metadata": {},
   "outputs": [
    {
     "name": "stdout",
     "output_type": "stream",
     "text": [
      "BD BR CD CN DE EG ET FR ID IN IR JP MX NG PH PK RU TR US VN \n",
      "20 downloads in 7.42s\n"
     ]
    }
   ],
   "source": [
    "import time\n",
    "from pathlib import Path\n",
    "from typing import Callable\n",
    "\n",
    "import httpx\n",
    "\n",
    "POP20_CC = ('CN IN US ID BR PK NG BD RU JP '\n",
    "            'MX PH VN ET EG DE IR TR CD FR').split()\n",
    "\n",
    "BASE_URL = 'https://www.fluentpython.com/data/flags'\n",
    "DEST_DIR = Path('downloaded')  \n",
    "\n",
    "def save_flag(img: bytes, filename: str) -> None: \n",
    "    (DEST_DIR / filename).write_bytes(img)\n",
    "\n",
    "def get_flag(cc: str) -> bytes:\n",
    "    url = f'{BASE_URL}/{cc}/{cc}.gif'.lower()\n",
    "    resp = httpx.get(url, timeout=6.1, \n",
    "                     follow_redirects=True)\n",
    "    resp.raise_for_status() \n",
    "    return resp.content\n",
    "\n",
    "def download_many(cc_list: list[str]) -> int: \n",
    "    for cc in sorted(cc_list):    \n",
    "        image = get_flag(cc)\n",
    "        save_flag(image, f'{cc}.gif')\n",
    "        print(cc, end=' ', flush=True) \n",
    "    return len(cc_list)\n",
    "\n",
    "def main(downloader: Callable[[list[str]], int]) -> None: \n",
    "    DEST_DIR.mkdir(exist_ok=True)  \n",
    "    t0 = time.perf_counter() \n",
    "    count = downloader(POP20_CC)\n",
    "    elapsed = time.perf_counter() - t0\n",
    "    print(f'\\n{count} downloads in {elapsed:.2f}s')\n",
    "\n",
    "if __name__ == '__main__':\n",
    "    main(download_many)"
   ]
  },
  {
   "cell_type": "markdown",
   "metadata": {},
   "source": [
    "Threaded download script using futures.ThreadPoolExecutor"
   ]
  },
  {
   "cell_type": "code",
   "execution_count": 3,
   "metadata": {},
   "outputs": [
    {
     "name": "stdout",
     "output_type": "stream",
     "text": [
      "BR CD FREG  ET CN DE BD IN MX ID IR PH JP NG PK US TR RU VN \n",
      "20 downloads in 1.83s\n"
     ]
    }
   ],
   "source": [
    "from concurrent import futures\n",
    "\n",
    "# from flags import save_flag, get_flag, main\n",
    "\n",
    "###### Same as previous ########\n",
    "\n",
    "POP20_CC = ('CN IN US ID BR PK NG BD RU JP '\n",
    "            'MX PH VN ET EG DE IR TR CD FR').split()\n",
    "\n",
    "BASE_URL = 'https://www.fluentpython.com/data/flags'\n",
    "DEST_DIR = Path('downloaded')  \n",
    "\n",
    "def save_flag(img: bytes, filename: str) -> None: \n",
    "    (DEST_DIR / filename).write_bytes(img)\n",
    "\n",
    "def get_flag(cc: str) -> bytes:\n",
    "    url = f'{BASE_URL}/{cc}/{cc}.gif'.lower()\n",
    "    resp = httpx.get(url, timeout=6.1, \n",
    "                     follow_redirects=True)\n",
    "    resp.raise_for_status() \n",
    "    return resp.content\n",
    "\n",
    "def main(downloader: Callable[[list[str]], int]) -> None: \n",
    "    DEST_DIR.mkdir(exist_ok=True)  \n",
    "    t0 = time.perf_counter() \n",
    "    count = downloader(POP20_CC)\n",
    "    elapsed = time.perf_counter() - t0\n",
    "    print(f'\\n{count} downloads in {elapsed:.2f}s')\n",
    "\n",
    "###### Above is same as previous ########\n",
    "\n",
    "\n",
    "def download_one(cc: str):\n",
    "    image = get_flag(cc)\n",
    "    save_flag(image, f'{cc}.gif')\n",
    "    print(cc, end=' ', flush=True)\n",
    "    return cc\n",
    "\n",
    "def download_many(cc_list: list[str]) -> int:\n",
    "    with futures.ThreadPoolExecutor() as executor:  \n",
    "        res = executor.map(download_one, sorted(cc_list))\n",
    "\n",
    "    return len(list(res))  \n",
    "\n",
    "if __name__ == '__main__':\n",
    "    main(download_many)\n"
   ]
  },
  {
   "cell_type": "markdown",
   "metadata": {},
   "source": [
    "Another implementation of threading with a more feature-rich, higher abstraction level package, using concurrent.futures package.  This package also allows you to easily switch between threading structure (use: futures.ThreadPoolExecutor) and multiprocessing structure (use: futures.ProcessPoolExecutor)\n",
    "\n",
    "In this case, there is no advantage to using ProcessPoolExecutor, bc this is an I/O bound task not a compute bound task. "
   ]
  },
  {
   "cell_type": "code",
   "execution_count": 8,
   "metadata": {},
   "outputs": [
    {
     "name": "stdout",
     "output_type": "stream",
     "text": [
      "Scheduled for BD: <Future at 0x10c983040 state=running>\n",
      "Scheduled for BR: <Future at 0x10c9a4250 state=running>\n",
      "Scheduled for CD: <Future at 0x10c9819f0 state=running>\n",
      "Scheduled for CN: <Future at 0x10c981630 state=running>\n",
      "Scheduled for DE: <Future at 0x10c983580 state=running>\n",
      "Scheduled for EG: <Future at 0x10c980040 state=running>\n",
      "Scheduled for ET: <Future at 0x10c925630 state=running>\n",
      "Scheduled for FR: <Future at 0x10c924850 state=running>\n",
      "Scheduled for ID: <Future at 0x10c9249d0 state=running>\n",
      "Scheduled for IN: <Future at 0x10c926c80 state=running>\n",
      "Scheduled for IR: <Future at 0x10c9242e0 state=pending>\n",
      "Scheduled for JP: <Future at 0x10c924190 state=pending>\n",
      "Scheduled for MX: <Future at 0x10c927f40 state=pending>\n",
      "Scheduled for NG: <Future at 0x10c925480 state=pending>\n",
      "Scheduled for PH: <Future at 0x10c926500 state=pending>\n",
      "Scheduled for PK: <Future at 0x10c925090 state=pending>\n",
      "Scheduled for RU: <Future at 0x10c927c10 state=pending>\n",
      "Scheduled for TR: <Future at 0x10c924550 state=pending>\n",
      "Scheduled for US: <Future at 0x10c925a50 state=pending>\n",
      "Scheduled for VN: <Future at 0x10c9260e0 state=pending>\n",
      "CD <Future at 0x10c9819f0 state=finished returned str> result: 'CD'\n",
      "BD <Future at 0x10c983040 state=finished returned str> result: 'BD'\n",
      "CN DE <Future at 0x10c983580 state=finished returned str> result: 'DE'\n",
      "<Future at 0x10c981630 state=finished returned str> result: 'CN'\n",
      "EG <Future at 0x10c980040 state=finished returned str> result: 'EG'\n",
      "IN <Future at 0x10c926c80 state=finished returned str> result: 'IN'\n",
      "ET <Future at 0x10c925630 state=finished returned str> result: 'ET'\n",
      "FR BR <Future at 0x10c924850 state=finished returned str> result: 'FR'\n",
      "<Future at 0x10c9a4250 state=finished returned str> result: 'BR'\n",
      "ID <Future at 0x10c9249d0 state=finished returned str> result: 'ID'\n",
      "JP <Future at 0x10c924190 state=finished returned str> result: 'JP'\n",
      "IR MX <Future at 0x10c9242e0 state=finished returned str> result: 'IR'\n",
      "PK<Future at 0x10c927f40 state=finished returned str> result: 'MX'\n",
      " "
     ]
    },
    {
     "name": "stdout",
     "output_type": "stream",
     "text": [
      "<Future at 0x10c925090 state=finished returned str> result: 'PK'\n",
      "PHRU  <Future at 0x10c927c10 state=finished returned str> result: 'RU'\n",
      "<Future at 0x10c926500 state=finished returned str> result: 'PH'\n",
      "US <Future at 0x10c925a50 state=finished returned str> result: 'US'\n",
      "TR NG <Future at 0x10c924550 state=finished returned str> result: 'TR'\n",
      "<Future at 0x10c925480 state=finished returned str> result: 'NG'\n",
      "VN <Future at 0x10c9260e0 state=finished returned str> result: 'VN'\n",
      "\n",
      "20 downloads in 1.52s\n"
     ]
    }
   ],
   "source": [
    "from concurrent import futures\n",
    "\n",
    "# from flags import save_flag, get_flag, main\n",
    "\n",
    "###### Same as previous ########\n",
    "\n",
    "POP20_CC = ('CN IN US ID BR PK NG BD RU JP '\n",
    "            'MX PH VN ET EG DE IR TR CD FR').split()\n",
    "\n",
    "BASE_URL = 'https://www.fluentpython.com/data/flags'\n",
    "DEST_DIR = Path('downloaded')  \n",
    "\n",
    "def save_flag(img: bytes, filename: str) -> None: \n",
    "    (DEST_DIR / filename).write_bytes(img)\n",
    "\n",
    "def get_flag(cc: str) -> bytes:\n",
    "    url = f'{BASE_URL}/{cc}/{cc}.gif'.lower()\n",
    "    resp = httpx.get(url, timeout=6.1, \n",
    "                     follow_redirects=True)\n",
    "    resp.raise_for_status() \n",
    "    return resp.content\n",
    "\n",
    "def main(downloader: Callable[[list[str]], int]) -> None: \n",
    "    DEST_DIR.mkdir(exist_ok=True)  \n",
    "    t0 = time.perf_counter() \n",
    "    count = downloader(POP20_CC)\n",
    "    elapsed = time.perf_counter() - t0\n",
    "    print(f'\\n{count} downloads in {elapsed:.2f}s')\n",
    "\n",
    "def download_one(cc: str):\n",
    "    image = get_flag(cc)\n",
    "    save_flag(image, f'{cc}.gif')\n",
    "    print(cc, end=' ', flush=True)\n",
    "    return cc\n",
    "\n",
    "###### Above is same as previous ########\n",
    "\n",
    "\n",
    "def download_many(cc_list: list[str]) -> int:\n",
    "    with futures.ThreadPoolExecutor(max_workers=None) as executor:\n",
    "        to_do: list[futures.Future] = []\n",
    "        for cc in sorted(cc_list):\n",
    "            future = executor.submit(download_one, cc)\n",
    "            to_do.append(future)\n",
    "            print(f'Scheduled for {cc}: {future}')\n",
    "\n",
    "        for count, future in enumerate(futures.as_completed(to_do), 1):\n",
    "            res: str = future.result()\n",
    "            print(f'{future} result: {res!r}')\n",
    "\n",
    "    return count\n",
    "\n",
    "if __name__ == '__main__':\n",
    "    main(download_many)\n"
   ]
  },
  {
   "cell_type": "markdown",
   "metadata": {},
   "source": [
    "Here is an example of a compute heavy task with process pool executor:"
   ]
  },
  {
   "cell_type": "code",
   "execution_count": null,
   "metadata": {},
   "outputs": [],
   "source": [
    "import sys\n",
    "from concurrent import futures\n",
    "from time import perf_counter\n",
    "from typing import NamedTuple\n",
    "\n",
    "from primes import is_prime, NUMBERS\n",
    "\n",
    "class PrimeResult(NamedTuple): \n",
    "    n: int\n",
    "    flag: bool\n",
    "    elapsed: float\n",
    "\n",
    "def check(n: int) -> PrimeResult:\n",
    "    t0 = perf_counter()\n",
    "    res = is_prime(n)\n",
    "    return PrimeResult(n, res, perf_counter() - t0)\n",
    "\n",
    "def main() -> None:\n",
    "    if len(sys.argv) < 2:\n",
    "        workers = None\n",
    "    else:\n",
    "        workers = int(sys.argv[1])\n",
    "\n",
    "    executor = futures.ProcessPoolExecutor(workers)\n",
    "    actual_workers = executor._max_workers  # type: ignore \n",
    "\n",
    "    print(f'Checking {len(NUMBERS)} numbers with {actual_workers} processes:')\n",
    "\n",
    "    t0 = perf_counter()\n",
    "\n",
    "    numbers = sorted(NUMBERS, reverse=True)\n",
    "    with executor:\n",
    "        for n, prime, elapsed in executor.map(check, numbers):\n",
    "            label = 'P' if prime else ' '\n",
    "            print(f'{n:16}  {label} {elapsed:9.6f}s')\n",
    "\n",
    "    time = perf_counter() - t0\n",
    "    print(f'Total time: {time:.2f}s')\n",
    "\n",
    "if __name__ == '__main__':\n",
    "    main()"
   ]
  }
 ],
 "metadata": {
  "kernelspec": {
   "display_name": "venv",
   "language": "python",
   "name": "python3"
  },
  "language_info": {
   "codemirror_mode": {
    "name": "ipython",
    "version": 3
   },
   "file_extension": ".py",
   "mimetype": "text/x-python",
   "name": "python",
   "nbconvert_exporter": "python",
   "pygments_lexer": "ipython3",
   "version": "3.10.13"
  }
 },
 "nbformat": 4,
 "nbformat_minor": 2
}
