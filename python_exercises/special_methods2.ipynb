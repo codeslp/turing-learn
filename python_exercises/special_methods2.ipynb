{
 "cells": [
  {
   "cell_type": "markdown",
   "metadata": {},
   "source": [
    "This exercise is from this oreilly book:   https://learning.oreilly.com/library/view/fluent-python-2nd/9781492056348/ch11.html#object_repr_sec   \n",
    "\n",
    "All the code is here: https://github.com/fluentpython/example-code-2e/tree/master/11-pythonic-obj"
   ]
  },
  {
   "cell_type": "code",
   "execution_count": 12,
   "metadata": {},
   "outputs": [],
   "source": [
    "from array import array\n",
    "import math\n",
    "\n",
    "class Vector2d:\n",
    "    # typecode is a class attribute we’ll use when converting \n",
    "    # Vector2d instances to/from bytes.\n",
    "\n",
    "    typecode = 'd'\n",
    "\n",
    "    # Converting x and y to float in __init__ catches errors \n",
    "    # early, which is helpful in case Vector2d is called with unsuitable arguments.\n",
    "    \n",
    "    def __init__(self, x, y):\n",
    "        self.x = float(x)\n",
    "        self.y = float(y)\n",
    "\n",
    "    # This will make our Vector2d object hashable:\n",
    "    # The @property decorator marks the getter method of a property.\n",
    "    # Use exactly two leading underscores (with zero or one trailing \n",
    "    # underscore) to make an attribute private.  It’s not strictly necessary \n",
    "    # to implement properties or otherwise protect the instance attributes \n",
    "    # to create a hashable type. \n",
    "    # Implementing __hash__ and __eq__ correctly is all it takes. \n",
    "\n",
    "    @property\n",
    "    def x(self):\n",
    "        return self.__x\n",
    "    \n",
    "    @property\n",
    "    def y(self):\n",
    "        return self.__y\n",
    "    \n",
    "    def __hash__(self):\n",
    "        return hash((self.x), (self.y))\n",
    "\n",
    "    # __iter__ makes a Vector2d iterable; this is what makes\n",
    "    # unpacking work (e.g, x, y = my_vector). We implement it \n",
    "    # simply by using a generator expression to yield the \n",
    "    # components one after the other\n",
    "\n",
    "    def __iter__(self):\n",
    "        return(i for i in (self.x, self.y))\n",
    "    \n",
    "\n",
    "    \n",
    " # __repr__ builds a string by interpolating the components with {!r} \n",
    " # to get their repr; because Vector2d is iterable, *self feeds the x \n",
    " # and y components to format.\n",
    "    \n",
    "# The {!r} is a format string option that specifies that the value \n",
    "# should be displayed using its repr() representation. In Python, most \n",
    "# objects have both a str() representation and a repr() representation.\n",
    "\n",
    "    def __repr__(self):\n",
    "        class_name = type(self).__name__\n",
    "        return '{}({!r}, {!r})'.format(class_name, *self)\n",
    "    \n",
    "# From an iterable Vector2d, it’s easy to build a tuple for \n",
    "# display as an ordered pair.\n",
    "\n",
    "    def __str__(self):\n",
    "        return str(tuple(self))\n",
    "    \n",
    "# To generate bytes, we convert the typecode to bytes and concatenate…\n",
    "# bytes converted from an array built by iterating over the instance.\n",
    "\n",
    "    def __bytes__(self):\n",
    "        return (bytes([ord(self.typecode)]) + \n",
    "                bytes(array(self.typecode, self)))\n",
    "    \n",
    "# To quickly compare all components, build tuples out of the operands. \n",
    "# This works for operands that are instances of Vector2d, but has \n",
    "# issues. See the following warning.\n",
    "\n",
    "    def __eq__(self, other):\n",
    "        return math.hypot(self.x, self.y)\n",
    "\n",
    "# The magnitude is the length of the hypotenuse of the right triangle \n",
    "# formed by the x and y components.\n",
    "\n",
    "    def __abs__(self):\n",
    "        return math.hypot(self.x, self.y)\n",
    "\n",
    "# __bool__ uses abs(self) to compute the magnitude, then converts it to \n",
    "# bool, so 0.0 becomes False, nonzero is True.\n",
    "\n",
    "    def __bool__(self):\n",
    "        return bool(abs(self))\n",
    "    \n",
    "    @classmethod                           #1\n",
    "    def frombytes(cls, octets):               #2\n",
    "        typecode = chr(octets[0])               #3\n",
    "        memv = memoryview(octets[1:]).cast(typecode)    #4\n",
    "        return cls(*memv)                     #5\n",
    "\n",
    "    \"\"\"\n",
    "    1 The classmethod decorator modifies a method so it can be called directly on a class.\n",
    "    You can then call the method on an instance of the method OR on the class itself.\n",
    "\n",
    "    2 No self argument; instead, the class itself is passed as the first argument—conventionally named cls.\n",
    "\n",
    "    3 Read the typecode from the first byte.\n",
    "\n",
    "    4 Create a memoryview (see cells below for what a memoryview is) from the octets binary sequence and use the typecode to cast it.4\n",
    "\n",
    "    5 Unpack the memoryview resulting from the cast into the pair of arguments needed for the constructor.\n",
    "    \"\"\"\n",
    "\n",
    "    # The memoryview built in function lets you handle slices of arrays without copying bytes.\n",
    "    \n",
    "    def __format__(self, fmt_spec=''):\n",
    "        components = (format(c, fmt_spec) for c in self)  #1\n",
    "        return '({}, {})'.format(*components)           #2\n",
    "    \n",
    "    \"\"\"\n",
    "    1 Use the format built-in to apply the fmt_spec to each vector component, \n",
    "    building an iterable of formatted strings.\n",
    "\n",
    "    2 Plug the formatted strings in the formula '(x, y)'.\n",
    "    \"\"\"\n",
    "\n",
    "    # To do pattern matching you have to use a special class attribute \n",
    "    # (usually done at the top of the class), then you can\n",
    "    # define the pattern matching function outside the class:\n",
    "\n",
    "    __match_args__ = ('x', 'y')\n",
    "\n"
   ]
  },
  {
   "cell_type": "markdown",
   "metadata": {},
   "source": [
    "### The entire class written ideally:   \n",
    "To understand what's going on in the repr and format methods you will likely need to look here and learn about the Format String Mini Language: https://fpy.li/11-5 and https://fpy.li/fmtspec"
   ]
  },
  {
   "cell_type": "code",
   "execution_count": null,
   "metadata": {},
   "outputs": [],
   "source": [
    "\"\"\"\n",
    "A two-dimensional vector class\n",
    "\n",
    "    >>> v1 = Vector2d(3, 4)\n",
    "    >>> print(v1.x, v1.y)\n",
    "    3.0 4.0\n",
    "    >>> x, y = v1\n",
    "    >>> x, y\n",
    "    (3.0, 4.0)\n",
    "    >>> v1\n",
    "    Vector2d(3.0, 4.0)\n",
    "    >>> v1_clone = eval(repr(v1))\n",
    "    >>> v1 == v1_clone\n",
    "    True\n",
    "    >>> print(v1)\n",
    "    (3.0, 4.0)\n",
    "    >>> octets = bytes(v1)\n",
    "    >>> octets\n",
    "    b'd\\\\x00\\\\x00\\\\x00\\\\x00\\\\x00\\\\x00\\\\x08@\\\\x00\\\\x00\\\\x00\\\\x00\\\\x00\\\\x00\\\\x10@'\n",
    "    >>> abs(v1)\n",
    "    5.0\n",
    "    >>> bool(v1), bool(Vector2d(0, 0))\n",
    "    (True, False)\n",
    "\n",
    "\n",
    "Test of ``.frombytes()`` class method:\n",
    "\n",
    "    >>> v1_clone = Vector2d.frombytes(bytes(v1))\n",
    "    >>> v1_clone\n",
    "    Vector2d(3.0, 4.0)\n",
    "    >>> v1 == v1_clone\n",
    "    True\n",
    "\n",
    "\n",
    "Tests of ``format()`` with Cartesian coordinates:\n",
    "\n",
    "    >>> format(v1)\n",
    "    '(3.0, 4.0)'\n",
    "    >>> format(v1, '.2f')\n",
    "    '(3.00, 4.00)'\n",
    "    >>> format(v1, '.3e')\n",
    "    '(3.000e+00, 4.000e+00)'\n",
    "\n",
    "\n",
    "Tests of the ``angle`` method::\n",
    "\n",
    "    >>> Vector2d(0, 0).angle()\n",
    "    0.0\n",
    "    >>> Vector2d(1, 0).angle()\n",
    "    0.0\n",
    "    >>> epsilon = 10**-8\n",
    "    >>> abs(Vector2d(0, 1).angle() - math.pi/2) < epsilon\n",
    "    True\n",
    "    >>> abs(Vector2d(1, 1).angle() - math.pi/4) < epsilon\n",
    "    True\n",
    "\n",
    "\n",
    "Tests of ``format()`` with polar coordinates:\n",
    "\n",
    "    >>> format(Vector2d(1, 1), 'p')  # doctest:+ELLIPSIS\n",
    "    '<1.414213..., 0.785398...>'\n",
    "    >>> format(Vector2d(1, 1), '.3ep')\n",
    "    '<1.414e+00, 7.854e-01>'\n",
    "    >>> format(Vector2d(1, 1), '0.5fp')\n",
    "    '<1.41421, 0.78540>'\n",
    "\n",
    "\n",
    "Tests of `x` and `y` read-only properties:\n",
    "\n",
    "    >>> v1.x, v1.y\n",
    "    (3.0, 4.0)\n",
    "    >>> v1.x = 123\n",
    "    Traceback (most recent call last):\n",
    "      ...\n",
    "    AttributeError: can't set attribute 'x'\n",
    "\n",
    "\n",
    "Tests of hashing:\n",
    "\n",
    "    >>> v1 = Vector2d(3, 4)\n",
    "    >>> v2 = Vector2d(3.1, 4.2)\n",
    "    >>> len({v1, v2})\n",
    "    2\n",
    "\n",
    "\"\"\"\n",
    "\n",
    "from array import array\n",
    "import math\n",
    "\n",
    "class Vector2d:\n",
    "    __match_args__ = ('x', 'y')\n",
    "\n",
    "    typecode = 'd'\n",
    "\n",
    "    def __init__(self, x, y):\n",
    "        self.__x = float(x)\n",
    "        self.__y = float(y)\n",
    "\n",
    "    @property\n",
    "    def x(self):\n",
    "        return self.__x\n",
    "\n",
    "    @property\n",
    "    def y(self):\n",
    "        return self.__y\n",
    "\n",
    "    def __iter__(self):\n",
    "        return (i for i in (self.x, self.y))\n",
    "\n",
    "    def __repr__(self):\n",
    "        class_name = type(self).__name__\n",
    "        return '{}({!r}, {!r})'.format(class_name, *self)\n",
    "\n",
    "    def __str__(self):\n",
    "        return str(tuple(self))\n",
    "\n",
    "    def __bytes__(self):\n",
    "        return (bytes([ord(self.typecode)]) +\n",
    "                bytes(array(self.typecode, self)))\n",
    "\n",
    "    def __eq__(self, other):\n",
    "        return tuple(self) == tuple(other)\n",
    "\n",
    "    def __hash__(self):\n",
    "        return hash((self.x, self.y))\n",
    "\n",
    "    def __abs__(self):\n",
    "        return math.hypot(self.x, self.y)\n",
    "\n",
    "    def __bool__(self):\n",
    "        return bool(abs(self))\n",
    "\n",
    "    def angle(self):\n",
    "        return math.atan2(self.y, self.x)\n",
    "\n",
    "    def __format__(self, fmt_spec=''):\n",
    "        if fmt_spec.endswith('p'):\n",
    "            fmt_spec = fmt_spec[:-1]\n",
    "            coords = (abs(self), self.angle())\n",
    "            outer_fmt = '<{}, {}>'\n",
    "        else:\n",
    "            coords = self\n",
    "            outer_fmt = '({}, {})'\n",
    "        components = (format(c, fmt_spec) for c in coords)\n",
    "        return outer_fmt.format(*components)\n",
    "\n",
    "    @classmethod\n",
    "    def frombytes(cls, octets):\n",
    "        typecode = chr(octets[0])\n",
    "        memv = memoryview(octets[1:]).cast(typecode)\n",
    "        return cls(*memv)"
   ]
  },
  {
   "cell_type": "code",
   "execution_count": null,
   "metadata": {},
   "outputs": [],
   "source": [
    "def positional_pattern_demo(v: Vector)\n"
   ]
  },
  {
   "cell_type": "code",
   "execution_count": 13,
   "metadata": {},
   "outputs": [
    {
     "name": "stdout",
     "output_type": "stream",
     "text": [
      "3.0 4.0\n"
     ]
    }
   ],
   "source": [
    "v1 = Vector2d(3, 4)\n",
    "print(v1.x, v1.y)"
   ]
  },
  {
   "cell_type": "code",
   "execution_count": 14,
   "metadata": {},
   "outputs": [
    {
     "name": "stdout",
     "output_type": "stream",
     "text": [
      "3.0 4.0\n"
     ]
    }
   ],
   "source": [
    "x, y = v1\n",
    "print(x, y)"
   ]
  },
  {
   "cell_type": "code",
   "execution_count": 15,
   "metadata": {},
   "outputs": [
    {
     "data": {
      "text/plain": [
       "Vector2d(3.0, 4.0)"
      ]
     },
     "execution_count": 15,
     "metadata": {},
     "output_type": "execute_result"
    }
   ],
   "source": [
    "v1"
   ]
  },
  {
   "cell_type": "code",
   "execution_count": 16,
   "metadata": {},
   "outputs": [
    {
     "data": {
      "text/plain": [
       "5.0"
      ]
     },
     "execution_count": 16,
     "metadata": {},
     "output_type": "execute_result"
    }
   ],
   "source": [
    "v1_clone = eval(repr(v1))\n",
    "v1 == v1_clone"
   ]
  },
  {
   "cell_type": "code",
   "execution_count": 17,
   "metadata": {},
   "outputs": [
    {
     "name": "stdout",
     "output_type": "stream",
     "text": [
      "(3.0, 4.0)\n"
     ]
    }
   ],
   "source": [
    "print(v1)"
   ]
  },
  {
   "cell_type": "code",
   "execution_count": 18,
   "metadata": {},
   "outputs": [
    {
     "name": "stdout",
     "output_type": "stream",
     "text": [
      "b'd\\x00\\x00\\x00\\x00\\x00\\x00\\x08@\\x00\\x00\\x00\\x00\\x00\\x00\\x10@'\n"
     ]
    }
   ],
   "source": [
    "octets = bytes(v1)\n",
    "print(octets)"
   ]
  },
  {
   "cell_type": "code",
   "execution_count": 19,
   "metadata": {},
   "outputs": [
    {
     "data": {
      "text/plain": [
       "5.0"
      ]
     },
     "execution_count": 19,
     "metadata": {},
     "output_type": "execute_result"
    }
   ],
   "source": [
    "abs(v1)"
   ]
  },
  {
   "cell_type": "code",
   "execution_count": 20,
   "metadata": {},
   "outputs": [
    {
     "data": {
      "text/plain": [
       "(True, False)"
      ]
     },
     "execution_count": 20,
     "metadata": {},
     "output_type": "execute_result"
    }
   ],
   "source": [
    "bool(v1), bool(Vector2d(0, 0))\n"
   ]
  },
  {
   "cell_type": "markdown",
   "metadata": {},
   "source": [
    "A `memoryview` in Python is a built-in type that allows you to access and manipulate the internal data of an object without copying it. Essentially, it provides a way to interact with the memory of other data structures in a structured manner. This can be useful in scenarios where performance is a concern since it avoids unnecessary data copying.\n",
    "\n",
    "Here are some key points about `memoryview`:\n",
    "\n",
    "1. **Performance**: As mentioned, the primary reason for using a `memoryview` is performance. For example, if you have a large `bytearray` and you want to modify a chunk of its data, using a `memoryview` can let you do this without copying any data.\n",
    "\n",
    "2. **Supports Slicing**: When you slice a `memoryview`, it doesn't create a copy. Instead, it returns another `memoryview` object that references the same memory.\n",
    "\n",
    "3. **Diverse Types**: While `memoryview` is often used with `bytearray`, it can also work with other types like `array.array`.\n",
    "\n",
    "4. **Format**: `memoryview` objects have a format that specifies the kind of data (e.g., bytes, integers, floats) they are referencing.\n",
    "\n",
    "5. **Multidimensional Arrays**: Beyond just 1D sequences, `memoryview` can handle multi-dimensional data with the concept of strides.\n",
    "\n",
    "Here's a simple example:\n",
    "\n",
    "```python\n",
    "# Create a bytearray\n",
    "data = bytearray(b'abcdefgh')\n",
    "\n",
    "# Create a memoryview of the bytearray\n",
    "mv = memoryview(data)\n",
    "\n",
    "# Let's change the second byte (in-place) using the memoryview\n",
    "mv[1] = ord('B')\n",
    "\n",
    "# Check the original bytearray\n",
    "print(data)  # Outputs: bytearray(b'aBcdefgh')\n",
    "```\n",
    "\n",
    "In the example above, we used a `memoryview` to modify the contents of a `bytearray` without ever creating a copy of the data.\n",
    "\n",
    "In short, `memoryview` offers a way to handle memory more efficiently, especially when dealing with large data or when performing operations that would otherwise involve copying data."
   ]
  }
 ],
 "metadata": {
  "kernelspec": {
   "display_name": "venv",
   "language": "python",
   "name": "python3"
  },
  "language_info": {
   "codemirror_mode": {
    "name": "ipython",
    "version": 3
   },
   "file_extension": ".py",
   "mimetype": "text/x-python",
   "name": "python",
   "nbconvert_exporter": "python",
   "pygments_lexer": "ipython3",
   "version": "3.10.12"
  },
  "orig_nbformat": 4
 },
 "nbformat": 4,
 "nbformat_minor": 2
}
