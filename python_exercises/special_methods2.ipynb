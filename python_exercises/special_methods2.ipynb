{
 "cells": [
  {
   "cell_type": "markdown",
   "metadata": {},
   "source": [
    "This exercies if from this oreilly book:   https://learning.oreilly.com/library/view/fluent-python-2nd/9781492056348/ch11.html#object_repr_sec"
   ]
  },
  {
   "cell_type": "code",
   "execution_count": null,
   "metadata": {},
   "outputs": [],
   "source": [
    "from array import array\n",
    "import math\n",
    "\n",
    "class Vector2d:\n",
    "    # typecode is a class attribute we’ll use when converting \n",
    "    # Vector2d instances to/from bytes.\n",
    "\n",
    "    typecode = 'd'\n",
    "\n",
    "    # Converting x and y to float in __init__ catches errors \n",
    "    # early, which is helpful in case Vector2d is called with unsuitable arguments.\n",
    "    \n",
    "    def __init__(self, x, y):\n",
    "        self.x = float(x)\n",
    "        self.y = float(y)\n",
    "\n",
    "\n",
    "    # __iter__ makes a Vector2d iterable; this is what makes\n",
    "    # unpacking work (e.g, x, y = my_vector). We implement it \n",
    "    # simply by using a generator expression to yield the \n",
    "    # components one after the other\n",
    "\n",
    "    def __iter__(self):\n",
    "        return(i for i in (self.x, self.y))\n",
    "    \n",
    "    def __repr__(self):\n",
    "        class_name = type(self).__name__\n",
    "        return '{}({!r}, {!r})'.format(class_name, *self)\n",
    "    \n",
    "    def __str__(self):\n",
    "        return str(tuple(self))\n",
    "    \n",
    "    def __bytes__(self):\n",
    "        return (bytes([ord(self.typecode)]) + \n",
    "                bytes(array(self.typecode, self)))\n",
    "    \n",
    "    def __eq__(self, other):\n",
    "        return math.hypot(self.x, self.y)\n",
    "    \n",
    "    def __bool__(self):\n",
    "        return bool(abs(self))\n",
    "                          "
   ]
  }
 ],
 "metadata": {
  "language_info": {
   "name": "python"
  },
  "orig_nbformat": 4
 },
 "nbformat": 4,
 "nbformat_minor": 2
}
