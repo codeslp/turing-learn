{
 "cells": [
  {
   "cell_type": "code",
   "execution_count": 15,
   "metadata": {},
   "outputs": [
    {
     "name": "stdout",
     "output_type": "stream",
     "text": [
      "3\n"
     ]
    }
   ],
   "source": [
    "from collections import Counter\n",
    "\n",
    "\n",
    "def findDistance(a):\n",
    "    num_counts = Counter(a)\n",
    "    duplicates = list(k for k, v in num_counts.items() if v > 1)\n",
    "\n",
    "    distances = []\n",
    "    for index, item in enumerate(a):\n",
    "        for index2, item2 in enumerate(a):\n",
    "            if item in duplicates and item2 in duplicates and item == item2:\n",
    "                distances.append(index2 - index)\n",
    "\n",
    "    if len(distances) == 0:\n",
    "        return -1\n",
    "    else:\n",
    "        return min([n for n in distances if n > 0])\n",
    "\n",
    "# n = int(input())\n",
    "a = list(map(int, input().split()))\n",
    "\n",
    "print(findDistance(a))\n",
    "\n"
   ]
  }
 ],
 "metadata": {
  "kernelspec": {
   "display_name": "venv",
   "language": "python",
   "name": "python3"
  },
  "language_info": {
   "codemirror_mode": {
    "name": "ipython",
    "version": 3
   },
   "file_extension": ".py",
   "mimetype": "text/x-python",
   "name": "python",
   "nbconvert_exporter": "python",
   "pygments_lexer": "ipython3",
   "version": "3.10.13"
  },
  "orig_nbformat": 4
 },
 "nbformat": 4,
 "nbformat_minor": 2
}
