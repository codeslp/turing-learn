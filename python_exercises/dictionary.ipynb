{
 "cells": [
  {
   "cell_type": "markdown",
   "metadata": {},
   "source": [
    "Using dict comprehensions\n",
    "\n",
    "Reversing a dict:"
   ]
  },
  {
   "cell_type": "code",
   "execution_count": 2,
   "metadata": {},
   "outputs": [
    {
     "data": {
      "text/plain": [
       "{'1984': 'Book1',\n",
       " 'To Kill a Mockingbird': 'Book2',\n",
       " 'The Great Gatsby': 'Book3',\n",
       " 'Moby Dick': 'Book4',\n",
       " 'War and Peace': 'Book5',\n",
       " 'Pride and Prejudice': 'Book6',\n",
       " 'Ulysses': 'Book7',\n",
       " 'The Catcher in the Rye': 'Book8',\n",
       " 'The Hobbit': 'Book9',\n",
       " 'Fahrenheit 451': 'Book10'}"
      ]
     },
     "execution_count": 2,
     "metadata": {},
     "output_type": "execute_result"
    }
   ],
   "source": [
    "library_books = [\n",
    "    (\"Book1\", \"1984\"),\n",
    "    (\"Book2\", \"To Kill a Mockingbird\"),\n",
    "    (\"Book3\", \"The Great Gatsby\"),\n",
    "    (\"Book4\", \"Moby Dick\"),\n",
    "    (\"Book5\", \"War and Peace\"),\n",
    "    (\"Book6\", \"Pride and Prejudice\"),\n",
    "    (\"Book7\", \"Ulysses\"),\n",
    "    (\"Book8\", \"The Catcher in the Rye\"),\n",
    "    (\"Book9\", \"The Hobbit\"),\n",
    "    (\"Book10\", \"Fahrenheit 451\"),\n",
    "]\n",
    "\n",
    "title_book = {title: book for book, title in library_books}\n",
    "\n",
    "title_book"
   ]
  },
  {
   "cell_type": "markdown",
   "metadata": {},
   "source": [
    "Reversing it again, while capitalizing the titles while filtering out titles & characters or shorter"
   ]
  },
  {
   "cell_type": "code",
   "execution_count": 4,
   "metadata": {},
   "outputs": [
    {
     "data": {
      "text/plain": [
       "{'Book10': 'FAHRENHEIT 451',\n",
       " 'Book4': 'MOBY DICK',\n",
       " 'Book6': 'PRIDE AND PREJUDICE',\n",
       " 'Book8': 'THE CATCHER IN THE RYE',\n",
       " 'Book3': 'THE GREAT GATSBY',\n",
       " 'Book9': 'THE HOBBIT',\n",
       " 'Book2': 'TO KILL A MOCKINGBIRD',\n",
       " 'Book5': 'WAR AND PEACE'}"
      ]
     },
     "execution_count": 4,
     "metadata": {},
     "output_type": "execute_result"
    }
   ],
   "source": [
    "{book: title.upper() for title, book in sorted(title_book.items()) if (len(title)>7)}"
   ]
  },
  {
   "cell_type": "markdown",
   "metadata": {},
   "source": [
    "Unpacking mappings: "
   ]
  },
  {
   "cell_type": "code",
   "execution_count": 9,
   "metadata": {},
   "outputs": [
    {
     "data": {
      "text/plain": [
       "{'a': 'there', 'hello': 'there', 'nice': 'meeting-you', 'my-name': 'is-alfred'}"
      ]
     },
     "execution_count": 9,
     "metadata": {},
     "output_type": "execute_result"
    }
   ],
   "source": [
    "def dump(**kwargs):\n",
    "    return kwargs\n",
    "\n",
    "dump(**{'x': '1'}, y=2, **{'z':3})\n",
    "\n",
    "dump(a='there',**{'hello':'there'}, **{'nice':'meeting-you', 'my-name':'is-alfred'})\n",
    "\n",
    "\n",
    "\n"
   ]
  },
  {
   "cell_type": "markdown",
   "metadata": {},
   "source": [
    "Merging dicts: \n",
    "\n"
   ]
  },
  {
   "cell_type": "code",
   "execution_count": 10,
   "metadata": {},
   "outputs": [
    {
     "data": {
      "text/plain": [
       "{'key1': 10,\n",
       " 'key2': 20,\n",
       " 'key3': 30,\n",
       " 'name': 'John',\n",
       " 'age': '25',\n",
       " 'country': 'USA',\n",
       " 1: ['apple', 'banana'],\n",
       " 2: ['cat', 'dog', 'elephant'],\n",
       " 3: ['red', 'green', 'blue']}"
      ]
     },
     "execution_count": 10,
     "metadata": {},
     "output_type": "execute_result"
    }
   ],
   "source": [
    "dict1 = {\n",
    "    'key1': 10,\n",
    "    'key2': 20,\n",
    "    'key3': 30\n",
    "}\n",
    "\n",
    "\n",
    "dict2 = {\n",
    "    'name': 'John',\n",
    "    'age': '25',\n",
    "    'country': 'USA'\n",
    "}\n",
    "\n",
    "dict3 = {\n",
    "    1: ['apple', 'banana'],\n",
    "    2: ['cat', 'dog', 'elephant'],\n",
    "    3: ['red', 'green', 'blue']\n",
    "}\n",
    "\n",
    "dict1|dict2|dict3"
   ]
  },
  {
   "cell_type": "code",
   "execution_count": null,
   "metadata": {},
   "outputs": [],
   "source": []
  },
  {
   "cell_type": "markdown",
   "metadata": {},
   "source": [
    "If some keys are the same it updates the values to the righthand dict, but does not change the values in the original dicts"
   ]
  },
  {
   "cell_type": "code",
   "execution_count": 26,
   "metadata": {},
   "outputs": [
    {
     "name": "stdout",
     "output_type": "stream",
     "text": [
      "{'key1': 'apple', 'key2': 20, 'key3': 'World', 'key4': 'is', 'key5': None, 'key6': 'OpenAI', 'key7': 42, 'key8': '!', 'key9': {'x': 1, 'y': 2}}\n",
      "{'key1': 10, 'key2': 20, 'key3': 'Hello', 'key4': 'this', 'key5': True}\n",
      "{'key1': 'apple', 'key2': 20, 'key3': 'World', 'key4': 'is', 'key5': False}\n",
      "{'key5': None, 'key6': 'OpenAI', 'key7': 42, 'key8': '!', 'key9': {'x': 1, 'y': 2}}\n"
     ]
    }
   ],
   "source": [
    "dict1 = {\n",
    "    'key1': 10,\n",
    "    'key2': 20,\n",
    "    'key3': 'Hello',\n",
    "    'key4': \"this\",\n",
    "    'key5': True\n",
    "}\n",
    "dict2 = {\n",
    "    'key1': 'apple',\n",
    "    'key2': 20,\n",
    "    'key3': 'World',\n",
    "    'key4': \"is\",\n",
    "    'key5': False\n",
    "}\n",
    "dict3 = {\n",
    "    'key5': None,\n",
    "    'key6': 'OpenAI',\n",
    "    'key7': 42,\n",
    "    'key8': \"!\",\n",
    "    'key9': {'x': 1, 'y': 2},\n",
    "}\n",
    "\n",
    "merged = dict1|dict2|dict3\n",
    "print(merged)\n",
    "\n",
    "print(dict1)\n",
    "print(dict2)\n",
    "print(dict3)"
   ]
  },
  {
   "cell_type": "markdown",
   "metadata": {},
   "source": [
    "But with the |= operator, it will only work for bitwise oerations and it will change the values in them "
   ]
  },
  {
   "cell_type": "code",
   "execution_count": 27,
   "metadata": {},
   "outputs": [
    {
     "ename": "SyntaxError",
     "evalue": "invalid syntax (2992792416.py, line 1)",
     "output_type": "error",
     "traceback": [
      "\u001b[0;36m  Cell \u001b[0;32mIn[27], line 1\u001b[0;36m\u001b[0m\n\u001b[0;31m    merge_change = print(dict1 |= dict2)\u001b[0m\n\u001b[0m                               ^\u001b[0m\n\u001b[0;31mSyntaxError\u001b[0m\u001b[0;31m:\u001b[0m invalid syntax\n"
     ]
    }
   ],
   "source": [
    "merge_change = print(dict1 |= dict2)\n",
    "\n",
    "print(merge_change)\n",
    "\n",
    "print(dict1)\n",
    "print(dict2)\n",
    "print(dict3)"
   ]
  },
  {
   "cell_type": "code",
   "execution_count": 23,
   "metadata": {},
   "outputs": [
    {
     "data": {
      "text/plain": [
       "{'a': 2, 'b': 4, 'c': 6}"
      ]
     },
     "execution_count": 23,
     "metadata": {},
     "output_type": "execute_result"
    }
   ],
   "source": [
    "d1 = {'a': 1, 'b': 3}\n",
    "d2 = {'a': 2, 'b': 4, 'c': 6}\n",
    "d1 | d2\n",
    "{'a': 2, 'b': 4, 'c': 6}"
   ]
  },
  {
   "cell_type": "code",
   "execution_count": 24,
   "metadata": {},
   "outputs": [
    {
     "data": {
      "text/plain": [
       "{'a': 2, 'b': 4, 'c': 6}"
      ]
     },
     "execution_count": 24,
     "metadata": {},
     "output_type": "execute_result"
    }
   ],
   "source": [
    "d1\n",
    "{'a': 1, 'b': 3}\n",
    "d1 |= d2\n",
    "d1\n",
    "{'a': 2, 'b': 4, 'c': 6}"
   ]
  },
  {
   "cell_type": "markdown",
   "metadata": {},
   "source": [
    "dict.setdefault can fetch and update a list of word occurrences from the index in a single line\n",
    "\n",
    "the end result of this line…"
   ]
  },
  {
   "cell_type": "code",
   "execution_count": null,
   "metadata": {},
   "outputs": [],
   "source": [
    "my_dict.setdefault(key, []).append(new_value)"
   ]
  },
  {
   "cell_type": "markdown",
   "metadata": {},
   "source": [
    "…is the same as (and faster than) running…"
   ]
  },
  {
   "cell_type": "code",
   "execution_count": null,
   "metadata": {},
   "outputs": [],
   "source": [
    "if key not in my_dict:\n",
    "    my_dict[key] = []\n",
    "my_dict[key].append(new_value)"
   ]
  },
  {
   "cell_type": "markdown",
   "metadata": {},
   "source": [
    "HOW TO HANDLE MISSING KEYS: use defaultdict, passing the data type you want in there\n",
    "\n",
    "Defaultdict works by using __missing__\n",
    "\n",
    "This is a normal dict, but we're adding the case that if something is looked up with uppercase, it will still be found"
   ]
  },
  {
   "cell_type": "code",
   "execution_count": 32,
   "metadata": {},
   "outputs": [],
   "source": [
    "class lowercasedict(dict):\n",
    "    def __missing__(self, key):\n",
    "        return self[key.lower()]"
   ]
  },
  {
   "cell_type": "code",
   "execution_count": 34,
   "metadata": {},
   "outputs": [
    {
     "data": {
      "text/plain": [
       "'one'"
      ]
     },
     "execution_count": 34,
     "metadata": {},
     "output_type": "execute_result"
    }
   ],
   "source": [
    "d = lowercasedict({\"wahed\": \"one\", \"ethnein\": \"two\"})\n",
    "d[\"wahed\"]"
   ]
  },
  {
   "cell_type": "markdown",
   "metadata": {},
   "source": [
    "A string altering mechanism (you could use this to perform some validation or also some calculation). You could all this a Passthrudict. This below is a kind of censorship mechanism."
   ]
  },
  {
   "cell_type": "code",
   "execution_count": 42,
   "metadata": {},
   "outputs": [],
   "source": [
    "class passthrudict(dict):\n",
    "    def __missing__(self, key):\n",
    "        return key"
   ]
  },
  {
   "cell_type": "code",
   "execution_count": 43,
   "metadata": {},
   "outputs": [
    {
     "data": {
      "text/plain": [
       "'kisss my *ss ya butt-nugget'"
      ]
     },
     "execution_count": 43,
     "metadata": {},
     "output_type": "execute_result"
    }
   ],
   "source": [
    "censor = passthrudict({'ass': '*ss', 'butt': 'b*tt'})\n",
    "\n",
    "sentence = \"kisss my ass ya butt-nugget\"\n",
    "\n",
    "' '.join(censor[w] for w in sentence.split())"
   ]
  },
  {
   "cell_type": "markdown",
   "metadata": {},
   "source": [
    "Note: You'll notice that this split didnt split out \"butt\". Here's an implementation of a \"fancy split\" that will split based on the unicode class, splitting on anything that is not in class \"L\" which means \"letter\". (I have no idea how it works I found it here: https://learning.oreilly.com/videos/python-data-structures/9781771373517/9781771373517-video211393/)"
   ]
  },
  {
   "cell_type": "code",
   "execution_count": 48,
   "metadata": {},
   "outputs": [
    {
     "data": {
      "text/plain": [
       "['kisss', ' ', 'my', ' ', 'ass', ' ', 'ya', ' ', 'butt', '-', 'nugget']"
      ]
     },
     "execution_count": 48,
     "metadata": {},
     "output_type": "execute_result"
    }
   ],
   "source": [
    "from itertools import groupby, chain\n",
    "from unicodedata import category\n",
    "\n",
    "def fancy_split(s):\n",
    "    return [''.join(g) for k,g in groupby(s, key=lambda x: category(x)[0] == 'L')]\n",
    "\n",
    "sentence = \"kisss my ass ya butt-nugget\"\n",
    "\n",
    "fancy_split(sentence)"
   ]
  },
  {
   "cell_type": "code",
   "execution_count": 49,
   "metadata": {},
   "outputs": [
    {
     "data": {
      "text/plain": [
       "'kisss my *ss ya b*tt-nugget'"
      ]
     },
     "execution_count": 49,
     "metadata": {},
     "output_type": "execute_result"
    }
   ],
   "source": [
    "''.join(censor[w] for w in fancy_split(sentence))"
   ]
  }
 ],
 "metadata": {
  "kernelspec": {
   "display_name": "Python 3",
   "language": "python",
   "name": "python3"
  },
  "language_info": {
   "codemirror_mode": {
    "name": "ipython",
    "version": 3
   },
   "file_extension": ".py",
   "mimetype": "text/x-python",
   "name": "python",
   "nbconvert_exporter": "python",
   "pygments_lexer": "ipython3",
   "version": "3.10.11"
  },
  "orig_nbformat": 4
 },
 "nbformat": 4,
 "nbformat_minor": 2
}
