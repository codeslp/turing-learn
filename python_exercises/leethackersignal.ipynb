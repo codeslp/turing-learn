{
 "cells": [
  {
   "cell_type": "markdown",
   "metadata": {},
   "source": [
    "Given an array a that contains only numbers in the range from 1 to a.length, find the first duplicate number for which the second occurrence has the minimal index. In other words, if there are more than 1 duplicated numbers, return the number for which the second occurrence has a smaller index than the second occurrence of the other number does. If there are no such elements, return -1.\n",
    "\n",
    "Example\n",
    "\n",
    "For a = [2, 1, 3, 5, 3, 2], the output should be solution(a) = 3.\n",
    "\n",
    "There are 2 duplicates: numbers 2 and 3. The second occurrence of 3 has a smaller index than the second occurrence of 2 does, so the answer is 3.\n",
    "\n",
    "For a = [2, 2], the output should be solution(a) = 2;\n",
    "\n",
    "For a = [2, 4, 3, 5, 1], the output should be solution(a) = -1."
   ]
  },
  {
   "cell_type": "markdown",
   "metadata": {},
   "source": [
    "My attempt: (solved many of the cases but not all)"
   ]
  },
  {
   "cell_type": "code",
   "execution_count": 48,
   "metadata": {},
   "outputs": [],
   "source": [
    "\n",
    "def solution(a):\n",
    "    all_indices = []\n",
    "    for index, value in enumerate(a):\n",
    "        try:\n",
    "            rest_of_a = a[index+1:]\n",
    "            if value in rest_of_a:\n",
    "                next_index = a.index(value, index+1)\n",
    "                all_indices.append(next_index)\n",
    "        except:\n",
    "            pass\n",
    "    if len(all_indices):\n",
    "        return a[min(all_indices)]\n",
    "    else:\n",
    "        return -1"
   ]
  },
  {
   "cell_type": "markdown",
   "metadata": {},
   "source": [
    "The right answer:  (SETS!!!! If its in the set just bounce it back! BA-DA-BING!)"
   ]
  },
  {
   "cell_type": "code",
   "execution_count": 55,
   "metadata": {},
   "outputs": [],
   "source": [
    "def solution(a):\n",
    "    seen = set()\n",
    "    for num in a:\n",
    "        if num in seen:\n",
    "            return num\n",
    "        seen.add(num)\n",
    "    return -1"
   ]
  },
  {
   "cell_type": "code",
   "execution_count": 56,
   "metadata": {},
   "outputs": [
    {
     "data": {
      "text/plain": [
       "-1"
      ]
     },
     "execution_count": 56,
     "metadata": {},
     "output_type": "execute_result"
    }
   ],
   "source": [
    "a = [1,2,3,4,5]\n",
    "\n",
    "solution(a)"
   ]
  },
  {
   "cell_type": "code",
   "execution_count": 57,
   "metadata": {},
   "outputs": [
    {
     "name": "stdout",
     "output_type": "stream",
     "text": [
      "3\n"
     ]
    }
   ],
   "source": [
    "a = [2, 1, 3, 5, 3, 2]\n",
    "print(solution(a))\n"
   ]
  },
  {
   "cell_type": "markdown",
   "metadata": {},
   "source": [
    "Given a string s consisting of small English letters, find and return the first instance of a non-repeating character in it. If there is no such character, return '_'."
   ]
  },
  {
   "cell_type": "code",
   "execution_count": 21,
   "metadata": {},
   "outputs": [],
   "source": [
    "from collections import Counter\n",
    "def solution(s):\n",
    "    letter_count = Counter(s)\n",
    "    singles = [key for key, value in letter_count.items() if value == 1]\n",
    "    if len(singles) == 0:\n",
    "        return \"_\"\n",
    "    for letter in s:\n",
    "        if letter in singles:\n",
    "            return letter"
   ]
  },
  {
   "cell_type": "markdown",
   "metadata": {},
   "source": [
    "Better solution:"
   ]
  },
  {
   "cell_type": "code",
   "execution_count": null,
   "metadata": {},
   "outputs": [],
   "source": [
    "def solution(s):\n",
    "    for letter in s:\n",
    "        if s.index(letter) == s.rindex(letter):\n",
    "            return letter\n",
    "    return '_'"
   ]
  },
  {
   "cell_type": "code",
   "execution_count": 22,
   "metadata": {},
   "outputs": [
    {
     "name": "stdout",
     "output_type": "stream",
     "text": [
      "c\n"
     ]
    }
   ],
   "source": [
    "s = \"abacabad\"\n",
    "print(solution(s))"
   ]
  },
  {
   "cell_type": "code",
   "execution_count": 23,
   "metadata": {},
   "outputs": [
    {
     "name": "stdout",
     "output_type": "stream",
     "text": [
      "_\n"
     ]
    }
   ],
   "source": [
    "s = \"aabbccdd\"\n",
    "print(solution(s))"
   ]
  },
  {
   "cell_type": "markdown",
   "metadata": {},
   "source": [
    "Note: Try to solve this task in-place (with O(1) additional memory), since this is what you'll be asked to do during an interview.\n",
    "\n",
    "You are given an n x n 2D matrix that represents an image. Rotate the image by 90 degrees (clockwise).\n",
    "\n",
    "Example\n",
    "\n",
    "For\n",
    "\n",
    "a = [[1, 2, 3],\n",
    "     [4, 5, 6],\n",
    "     [7, 8, 9]]\n",
    "the output should be\n",
    "\n",
    "solution(a) =\n",
    "    [[7, 4, 1],\n",
    "     [8, 5, 2],\n",
    "     [9, 6, 3]]"
   ]
  },
  {
   "cell_type": "markdown",
   "metadata": {},
   "source": [
    "#### Brian, you CRUSHED this in like 3 minutes because you worked on optimizing that transpose function.  You are a beast!"
   ]
  },
  {
   "cell_type": "code",
   "execution_count": 11,
   "metadata": {},
   "outputs": [],
   "source": [
    "def solution(a):\n",
    "    flipped = zip(*a)\n",
    "    rotated = [list(i[::-1]) for i in flipped]\n",
    "    return(rotated)"
   ]
  },
  {
   "cell_type": "markdown",
   "metadata": {},
   "source": [
    "Even better solution from someone else:"
   ]
  },
  {
   "cell_type": "code",
   "execution_count": null,
   "metadata": {},
   "outputs": [],
   "source": [
    "def solution(a):\n",
    "    return list(zip(*reversed(a)))"
   ]
  },
  {
   "cell_type": "code",
   "execution_count": 12,
   "metadata": {},
   "outputs": [
    {
     "name": "stdout",
     "output_type": "stream",
     "text": [
      "[[7, 4, 1], [8, 5, 2], [9, 6, 3]]\n"
     ]
    }
   ],
   "source": [
    "a = [[1, 2, 3],\n",
    "     [4, 5, 6],\n",
    "     [7, 8, 9]]\n",
    "\n",
    "print(*solution(a))"
   ]
  },
  {
   "cell_type": "markdown",
   "metadata": {},
   "source": [
    "Sudoku is a number-placement puzzle. The objective is to fill a 9 × 9 grid with numbers in such a way that each column, each row, and each of the nine 3 × 3 sub-grids that compose the grid all contain all of the numbers from 1 to 9 one time.\n",
    "\n",
    "Implement an algorithm that will check whether the given grid of numbers represents a valid Sudoku puzzle according to the layout rules described above. Note that the puzzle represented by grid does not have to be solvable."
   ]
  },
  {
   "cell_type": "code",
   "execution_count": 137,
   "metadata": {},
   "outputs": [],
   "source": [
    "import numpy as np\n",
    "\n",
    "def solution(grid):\n",
    "    grid = np.array(grid)\n",
    "    for row in grid:\n",
    "        seen = set()\n",
    "        for value in row:\n",
    "            if (value in seen) and (value != '.'):\n",
    "                return False\n",
    "            seen.add(value)\n",
    "\n",
    "    for i in range(grid.shape[1]):\n",
    "        seen = set()\n",
    "        column = grid[:,i]\n",
    "        for value in column:\n",
    "            if (value in seen) and (value != '.'):\n",
    "                return False\n",
    "            seen.add(value)\n",
    "\n",
    "    for g in range(0, grid.shape[0], 3):\n",
    "        for h in range(0, grid.shape[0], 3):\n",
    "            seen = set()\n",
    "            for i in range(g, g+3):\n",
    "                for j in range(h, h+3):\n",
    "                    if ((grid[i,j] in seen)) and ((grid[i,j] != '.')):\n",
    "                        return False\n",
    "                    seen.add(grid[i,j])\n",
    "\n",
    "    return True\n",
    "\n",
    "\n"
   ]
  },
  {
   "cell_type": "code",
   "execution_count": 138,
   "metadata": {},
   "outputs": [
    {
     "name": "stdout",
     "output_type": "stream",
     "text": [
      "{'.'}\n",
      "{'.'}\n",
      "{'.'}\n",
      "{'.'}\n",
      "{'.'}\n",
      "{'.', '6'}\n",
      "{'.', '6'}\n",
      "{'.', '6'}\n",
      "{'.', '6'}\n",
      "{'1'}\n",
      "{'1', '4'}\n",
      "{'1', '.', '4'}\n",
      "{'1', '.', '4'}\n",
      "{'1', '.', '4'}\n",
      "{'1', '.', '4'}\n",
      "{'1', '.', '4'}\n",
      "{'1', '.', '4'}\n",
      "{'1', '.', '4'}\n",
      "{'.'}\n",
      "{'.', '2'}\n",
      "{'.', '2'}\n",
      "{'.', '2'}\n",
      "{'.', '2'}\n",
      "{'.', '2'}\n",
      "{'.', '2'}\n",
      "{'.', '2'}\n",
      "{'.', '2'}\n",
      "{'.'}\n",
      "{'.'}\n",
      "{'1', '.'}\n",
      "{'1', '.'}\n",
      "{'1', '.', '6'}\n",
      "{'1', '7', '.', '6'}\n",
      "{'1', '7', '.', '6'}\n",
      "{'1', '7', '.', '6'}\n",
      "{'1', '7', '.', '6'}\n",
      "{'.'}\n",
      "{'.'}\n",
      "{'.'}\n",
      "{'.'}\n",
      "{'.'}\n",
      "{'.'}\n",
      "{'.'}\n",
      "{'.'}\n",
      "{'.'}\n",
      "{'.'}\n",
      "{'.'}\n",
      "{'.'}\n",
      "{'.'}\n",
      "{'.'}\n",
      "{'.', '9'}\n",
      "{'.', '9', '8'}\n",
      "{'1', '.', '9', '8'}\n",
      "{'1', '.', '9', '8'}\n",
      "{'.'}\n",
      "{'3', '.'}\n",
      "{'3', '.'}\n",
      "{'3', '.'}\n",
      "{'3', '.'}\n",
      "{'3', '.'}\n",
      "{'3', '.'}\n",
      "{'3', '.'}\n",
      "{'3', '.'}\n",
      "{'.'}\n",
      "{'.'}\n",
      "{'.'}\n",
      "{'.'}\n",
      "{'.'}\n",
      "{'7', '.'}\n",
      "{'7', '.', '5'}\n",
      "{'7', '.', '5'}\n",
      "{'7', '.', '5'}\n",
      "{'.'}\n",
      "{'.'}\n",
      "{'.', '6'}\n",
      "{'.', '6'}\n",
      "{'.', '6'}\n",
      "{'.', '6'}\n",
      "{'.', '6'}\n",
      "{'7', '.', '6'}\n",
      "{'7', '.', '6'}\n",
      "true\n"
     ]
    }
   ],
   "source": [
    "grid = [['.', '.', '.', '1', '4', '.', '.', '2', '.'],\n",
    "        ['.', '.', '6', '.', '.', '.', '.', '.', '.'],\n",
    "        ['.', '.', '.', '.', '.', '.', '.', '.', '.'],\n",
    "        ['.', '.', '1', '.', '.', '.', '.', '.', '.'],\n",
    "        ['.', '6', '7', '.', '.', '.', '.', '.', '9'],\n",
    "        ['.', '.', '.', '.', '.', '.', '8', '1', '.'],\n",
    "        ['.', '3', '.', '.', '.', '.', '.', '.', '6'],\n",
    "        ['.', '.', '.', '.', '.', '7', '.', '.', '.'],\n",
    "        ['.', '.', '.', '5', '.', '.', '.', '7', '.']]\n",
    "\n",
    "print(solution(grid))"
   ]
  },
  {
   "cell_type": "code",
   "execution_count": 134,
   "metadata": {},
   "outputs": [
    {
     "name": "stdout",
     "output_type": "stream",
     "text": [
      "false\n"
     ]
    }
   ],
   "source": [
    "grid = [['.', '.', '.', '.', '2', '.', '.', '9', '.'],\n",
    "        ['.', '.', '.', '.', '6', '.', '.', '.', '.'],\n",
    "        ['7', '1', '.', '.', '7', '5', '.', '.', '.'],\n",
    "        ['.', '7', '.', '.', '.', '.', '.', '.', '.'],\n",
    "        ['.', '.', '.', '.', '8', '3', '.', '.', '.'],\n",
    "        ['.', '.', '8', '.', '.', '7', '.', '6', '.'],\n",
    "        ['.', '.', '.', '.', '.', '2', '.', '.', '.'],\n",
    "        ['.', '1', '.', '2', '.', '.', '.', '.', '.'],\n",
    "        ['.', '2', '.', '.', '3', '.', '.', '.', '.']]\n",
    "\n",
    "print(solution(grid))"
   ]
  },
  {
   "cell_type": "code",
   "execution_count": 183,
   "metadata": {},
   "outputs": [],
   "source": [
    "def Solution(crypt, solution):\n",
    "    s_dict = {key: value for [key, value] in iter(solution)}\n",
    "    all_word_sums = list()\n",
    "    for word in crypt:\n",
    "        word_nums = list()\n",
    "        for letter in word:\n",
    "            word_nums.append(s_dict[letter])\n",
    "        all_word_sums.append(word_nums)\n",
    "    for word in all_word_sums:\n",
    "        if (word[0] == '0') and (len(word) > 1):\n",
    "            return False\n",
    "    if (int(''.join(all_word_sums[0])) + int(''.join(all_word_sums[1]))) != int(''.join(all_word_sums[2])):\n",
    "        return False\n",
    "    return True"
   ]
  },
  {
   "cell_type": "markdown",
   "metadata": {},
   "source": [
    "Better solution: "
   ]
  },
  {
   "cell_type": "code",
   "execution_count": null,
   "metadata": {},
   "outputs": [],
   "source": [
    "def solution(crypt, solution):\n",
    "    table = str.maketrans(dict(solution))\n",
    "    t = tuple(s.translate(table) for s in crypt)\n",
    "    zeroes = any(s[0] == '0' for s in t if len(s) > 1)\n",
    "    return not zeroes and int(t[0]) + int(t[1]) == int(t[2])"
   ]
  },
  {
   "cell_type": "code",
   "execution_count": 184,
   "metadata": {},
   "outputs": [
    {
     "data": {
      "text/plain": [
       "True"
      ]
     },
     "execution_count": 184,
     "metadata": {},
     "output_type": "execute_result"
    }
   ],
   "source": [
    "crypt = [\"SEND\", \"MORE\", \"MONEY\"]\n",
    "\n",
    "solution = [['O', '0'],\n",
    "            ['M', '1'],\n",
    "            ['Y', '2'],\n",
    "            ['E', '5'],\n",
    "            ['N', '6'],\n",
    "            ['D', '7'],\n",
    "            ['R', '8'],\n",
    "            ['S', '9']]\n",
    "\n",
    "Solution(crypt, solution)"
   ]
  },
  {
   "cell_type": "code",
   "execution_count": 185,
   "metadata": {},
   "outputs": [
    {
     "data": {
      "text/plain": [
       "False"
      ]
     },
     "execution_count": 185,
     "metadata": {},
     "output_type": "execute_result"
    }
   ],
   "source": [
    "crypt = [\"TEN\", \"TWO\", \"ONE\"]\n",
    "\n",
    "solution = [['O', '1'],\n",
    "            ['T', '0'],\n",
    "            ['W', '9'],\n",
    "            ['E', '5'],\n",
    "            ['N', '4']]\n",
    "\n",
    "Solution(crypt, solution)"
   ]
  },
  {
   "cell_type": "code",
   "execution_count": 186,
   "metadata": {},
   "outputs": [
    {
     "data": {
      "text/plain": [
       "True"
      ]
     },
     "execution_count": 186,
     "metadata": {},
     "output_type": "execute_result"
    }
   ],
   "source": [
    "crypt = [\"A\", \"A\", \"A\"]\n",
    "solution = [[\"A\",\"0\"]]\n",
    "\n",
    "Solution(crypt, solution)"
   ]
  }
 ],
 "metadata": {
  "kernelspec": {
   "display_name": "venv",
   "language": "python",
   "name": "python3"
  },
  "language_info": {
   "codemirror_mode": {
    "name": "ipython",
    "version": 3
   },
   "file_extension": ".py",
   "mimetype": "text/x-python",
   "name": "python",
   "nbconvert_exporter": "python",
   "pygments_lexer": "ipython3",
   "version": "3.10.13"
  }
 },
 "nbformat": 4,
 "nbformat_minor": 2
}
