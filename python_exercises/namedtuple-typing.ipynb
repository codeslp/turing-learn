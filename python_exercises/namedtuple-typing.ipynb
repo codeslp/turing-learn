{
 "cells": [
  {
   "cell_type": "markdown",
   "metadata": {},
   "source": [
    "`collections.namedtuple` is a function that generates a subclass of tuple with named fields. Namedtuples help to have meaning in each position in a tuple. This provides the functionality of tuples and adds the ability to access fields by name instead of position.\n",
    "\n",
    "A namedtuple is a good fit when you're dealing with a large number of attributes in an object. It enhances readability and understanding of the code. For instance, if you have a point in a 2D space, instead of remembering the index of x and y in a tuple, you can just refer to them by name.\n",
    "\n",
    "Namedtuples can also be a good alternative to dictionaries, as they consume less memory. They are immutable, which can be beneficial in a multi-threading environment where you don't want data to be changed.\n",
    "\n",
    "Example:\n",
    "\n",
    "Let's assume we have a database of employees, where each record contains an employee's id, name, and job title. You can use a namedtuple to represent each employee record:\n",
    "\n",
    "```python\n",
    "from collections import namedtuple\n",
    "\n",
    "# Define a namedtuple type 'Employee' with fields 'id', 'name', 'job_title'\n",
    "Employee = namedtuple('Employee', 'id name job_title')\n",
    "\n",
    "# Assume we get the following data from the database\n",
    "data_from_db = [\n",
    "    (1, 'Alice', 'Software Engineer'),\n",
    "    (2, 'Bob', 'Data Scientist'),\n",
    "    (3, 'Charlie', 'Product Manager')\n",
    "]\n",
    "\n",
    "# Convert the database data to a list of Employee namedtuples\n",
    "employees = [Employee(*row) for row in data_from_db]\n",
    "\n",
    "# Now we can access the data in a more readable way\n",
    "for employee in employees:\n",
    "    print(f'Employee {employee.id} is {employee.name} and works as a {employee.job_title}.')\n",
    "```\n",
    "\n",
    "In this code, we first define an `Employee` namedtuple with fields `id`, `name`, `job_title`. Then we retrieve data from the database (simulated here with a list of tuples) and convert each record to an `Employee` namedtuple. This makes the data easier to work with: instead of having to remember that the job title is the third element of the tuple, we can just write `employee.job_title`.\n",
    "\n",
    "This is particularly useful when working with large datasets where each record may contain many fields. Using namedtuples makes your code more readable and self-descriptive.\n"
   ]
  },
  {
   "cell_type": "markdown",
   "metadata": {},
   "source": [
    "## typing.namedtuple objects allow you to define the types that will be accepted in each field. This is useful for avoiding errors at runtime. \n",
    "\n",
    "THESE TYPES ONLY MATTER WHEN YOU RUN MYPy"
   ]
  },
  {
   "cell_type": "markdown",
   "metadata": {},
   "source": []
  },
  {
   "cell_type": "code",
   "execution_count": 16,
   "metadata": {},
   "outputs": [],
   "source": [
    "import typing\n",
    "\n",
    "class Point(typing.NamedTuple):\n",
    "    x: float\n",
    "    y: float\n",
    "\n",
    "p = Point(1.0, 2.0)\n"
   ]
  },
  {
   "cell_type": "markdown",
   "metadata": {},
   "source": [
    "## The @dataclass operator allows for simplified definitions of namedtuples defined as classes. Default definition crease a mutable class, but the decorator accests a kwarg frozen=True that will raise an exception if you assign a value to a field after the instance is initialized.  You can also define a default (see Employee class).\n",
    "\n",
    "There are some situations when you'd want a field left out of the default __repr__ method:  \n",
    "1. Sensitive information: If a field holds sensitive data (like a password), it would be a security risk to include it in the __repr__ output.\n",
    "\n",
    "2. Large data structures: If a field contains a large amount of data (like a large list or a complex object), including it in the __repr__ output could make the output overly verbose and difficult to read.\n",
    "\n",
    "3. Recursion issues: If the dataclass contains fields that have self-references (like a tree structure), the default __repr__ could cause infinite recursion.\n",
    "\n",
    "You can control which fields are included in the __repr__ output by using the repr argument in the field() function when defining the field in the dataclass."
   ]
  },
  {
   "cell_type": "code",
   "execution_count": 18,
   "metadata": {},
   "outputs": [
    {
     "name": "stdout",
     "output_type": "stream",
     "text": [
      "Employee(first='Bob', middle='', last='Roverts', ID=5555, salary=345000.0, department='data')\n",
      "Employee(first='Marg', middle='A', last='Rita', ID=8888, salary=0.0, department='marketing')\n",
      "Employee(first=900, middle=900, last=900, ID=900, salary=900, department=900)\n"
     ]
    }
   ],
   "source": [
    "from dataclasses import dataclass, field\n",
    "\n",
    "@dataclass\n",
    "class Point:\n",
    "    x: float\n",
    "    y: float\n",
    "\n",
    "p = Point(0.0, 0.0)\n",
    "\n",
    "@dataclass\n",
    "class Employee:\n",
    "    first: str\n",
    "    middle: str\n",
    "    last: str\n",
    "    ID: int\n",
    "    salary: float\n",
    "    department: str = \"marketing\"\n",
    "    insured: bool = field(default=False, repr=False)\n",
    "    password: str = field(default=\"1234\", repr=False)\n",
    "    login_id: str = field(default=False, repr=False)\n",
    "\n",
    "engineer = Employee('Bob', '', 'Roverts', 5555, 345000.00, 'data', True)\n",
    "intern = Employee('Marg', 'A', 'Rita', 8888, 0.00)\n",
    "doofus = Employee(900, 900, 900, 900, 900, 900)\n",
    "\n",
    "print(engineer)\n",
    "print(intern)\n",
    "print(doofus)\n"
   ]
  },
  {
   "cell_type": "markdown",
   "metadata": {},
   "source": [
    "I initialize a default value as an empty list, you have to do this: \n",
    "Be careful when assigning mutable values as defaults with data classes-- use a default factory to set mutable default values."
   ]
  },
  {
   "cell_type": "code",
   "execution_count": null,
   "metadata": {},
   "outputs": [],
   "source": [
    "from dataclasses import dataclass, field\n",
    "\n",
    "@dataclass\n",
    "class ClubMember:\n",
    "    name: str\n",
    "    guests: list = field(default_factory=list)"
   ]
  }
 ],
 "metadata": {
  "kernelspec": {
   "display_name": "Python 3",
   "language": "python",
   "name": "python3"
  },
  "language_info": {
   "codemirror_mode": {
    "name": "ipython",
    "version": 3
   },
   "file_extension": ".py",
   "mimetype": "text/x-python",
   "name": "python",
   "nbconvert_exporter": "python",
   "pygments_lexer": "ipython3",
   "version": "3.9.9"
  },
  "orig_nbformat": 4
 },
 "nbformat": 4,
 "nbformat_minor": 2
}
