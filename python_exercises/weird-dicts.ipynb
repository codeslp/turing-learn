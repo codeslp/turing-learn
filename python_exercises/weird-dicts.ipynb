{
 "cells": [
  {
   "cell_type": "markdown",
   "metadata": {},
   "source": [
    "FlexibleDict allows you to set a key as either a string or int (it is not pythonic and usually NOT recommended)"
   ]
  },
  {
   "cell_type": "code",
   "execution_count": 2,
   "metadata": {},
   "outputs": [
    {
     "name": "stdout",
     "output_type": "stream",
     "text": [
      "100\n",
      "500\n",
      "100\n",
      "100\n"
     ]
    }
   ],
   "source": [
    "class FlexibleDict(dict):\n",
    "    def __getitem__(self, key):\n",
    "        try:\n",
    "            if key in self:\n",
    "                pass\n",
    "            elif str(key) in self:\n",
    "                key = str(key)\n",
    "            elif int(key) in self:\n",
    "                key = int(key)\n",
    "        except ValueError:\n",
    "            pass\n",
    "\n",
    "        return dict.__getitem__(self, key)\n",
    "\n",
    "fd = FlexibleDict()\n",
    "\n",
    "fd['a'] = 100\n",
    "print(fd['a'])\n",
    "\n",
    "fd[5] = 500\n",
    "print(fd['5'])\n",
    "\n",
    "fd[1] = 100\n",
    "print(fd['1'])\n",
    "\n",
    "fd['1'] = 100\n",
    "print(fd[1])"
   ]
  },
  {
   "cell_type": "markdown",
   "metadata": {},
   "source": [
    "StringKeyDict converts keys into strings as part of the assignment. Comes in handy of you are reading keys from a file and won't be able to distinguish between str and int."
   ]
  },
  {
   "cell_type": "code",
   "execution_count": 3,
   "metadata": {},
   "outputs": [
    {
     "name": "stdout",
     "output_type": "stream",
     "text": [
      "{'1': 10, '2': 20}\n"
     ]
    }
   ],
   "source": [
    "class StringKeyDict(dict):\n",
    "    def __setitem__(self, key, value):\n",
    "        super().__setitem__(str(key), value)\n",
    "\n",
    "d = StringKeyDict()\n",
    "d[1] = 10\n",
    "d[2] = 20\n",
    "print(d)\n"
   ]
  },
  {
   "cell_type": "markdown",
   "metadata": {},
   "source": [
    "RecentDict contains a user-defined number of key-value pairs, which are set at instance definition. "
   ]
  },
  {
   "cell_type": "code",
   "execution_count": 6,
   "metadata": {},
   "outputs": [
    {
     "name": "stdout",
     "output_type": "stream",
     "text": [
      "dict_items([('a', 1), ('b', 2), ('c', 3)])\n",
      "dict_items([('c', 3), ('d', 4), ('e', 5)])\n",
      "dict_items([('d', 4), ('e', 5), ('f', 6)])\n"
     ]
    }
   ],
   "source": [
    "class RecentDict(dict):\n",
    "    def __init__(self, max_length):\n",
    "        self.max_length = max_length\n",
    "        super().__init__()\n",
    "    \n",
    "    def __setitem__(self, key, value):\n",
    "        super().__setitem__(key, value)\n",
    "        if len(self) > self.max_length:\n",
    "            self.pop(next(iter(self)))\n",
    "\n",
    "        \n",
    "\n",
    "\n",
    "d = RecentDict(3)\n",
    "d['a'] = 1\n",
    "d['b'] = 2\n",
    "d['c'] = 3\n",
    "print(d.items())\n",
    "\n",
    "d['d'] = 4\n",
    "d['e'] = 5\n",
    "print(d.items())\n",
    "\n",
    "d['f'] = 6\n",
    "print(d.items())\n",
    "    "
   ]
  },
  {
   "cell_type": "markdown",
   "metadata": {},
   "source": [
    "FlatList is an object that will append all the elements of a list into a single list. It is a subclass of list, so it has all the methods of a list, but it also has a method called flatten that will return a list with all the elements of the list and its sublists. If you pass a list of lists, it will not flatten the nested sublists."
   ]
  },
  {
   "cell_type": "code",
   "execution_count": 7,
   "metadata": {},
   "outputs": [
    {
     "name": "stdout",
     "output_type": "stream",
     "text": [
      "[1, 2, 3, 4, [5, 6]]\n"
     ]
    }
   ],
   "source": [
    "class FlatList(list):\n",
    "    def append(self, item):\n",
    "        try:\n",
    "            to_add = iter(item)\n",
    "            self.extend(to_add)\n",
    "        except TypeError:\n",
    "            super().append(item)\n",
    "\n",
    "flat_list = FlatList()\n",
    "flat_list.append(1)\n",
    "flat_list.append([2, 3])\n",
    "flat_list.append([4, [5, 6]])\n",
    "\n",
    "print(flat_list)"
   ]
  }
 ],
 "metadata": {
  "kernelspec": {
   "display_name": "venv",
   "language": "python",
   "name": "python3"
  },
  "language_info": {
   "codemirror_mode": {
    "name": "ipython",
    "version": 3
   },
   "file_extension": ".py",
   "mimetype": "text/x-python",
   "name": "python",
   "nbconvert_exporter": "python",
   "pygments_lexer": "ipython3",
   "version": "3.10.12"
  },
  "orig_nbformat": 4
 },
 "nbformat": 4,
 "nbformat_minor": 2
}
