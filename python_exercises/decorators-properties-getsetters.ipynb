{
 "cells": [
  {
   "cell_type": "markdown",
   "metadata": {},
   "source": [
    "Learning to use decorator, getters, setters, properties. \n",
    "\n",
    "This uses the performance timing methods in the functools wraps module to create a @timeit decorator you can stick in front of any function to also return the time it took to run."
   ]
  },
  {
   "cell_type": "code",
   "execution_count": null,
   "metadata": {},
   "outputs": [],
   "source": [
    "from functools import wraps\n",
    "import time\n",
    "\n",
    "def timeit(func):\n",
    "    @wraps(func)\n",
    "    def timeit_wrapper(*args, **kwargs):\n",
    "        start_time = time.perf_counter()\n",
    "        result = func(*args, **kwargs)\n",
    "        end_time = time.perf_counter()\n",
    "        total_time = end_time - start_time\n",
    "        print(f\"Function {func.__name__}{args} {kwargs} took {total_time:.4f} seconds\")\n",
    "        return result\n",
    "    return timeit_wrapper"
   ]
  },
  {
   "cell_type": "code",
   "execution_count": 4,
   "metadata": {},
   "outputs": [],
   "source": [
    "from dataclasses import dataclass\n",
    "from datetime import datetime\n",
    "\n",
    "@dataclass\n",
    "class Transaction:\n",
    "    _sender: str\n",
    "    _recipient: str\n",
    "    _amount: float\n",
    "    _date: datetime = None\n",
    "\n",
    "    # Sender getter and setter\n",
    "\n",
    "    @property\n",
    "    def sender(self):\n",
    "        return self._sender\n",
    "    \n",
    "    @sender.setter\n",
    "    def sender(self, sender):\n",
    "        if not isinstance(sender, str):\n",
    "            raise TypeError(\"Sender must be a string\")\n",
    "        self._sender = sender\n",
    "\n",
    "    # Recipient getter and setter\n",
    "\n",
    "    @property\n",
    "    def recipient(self):\n",
    "        return self._recipient\n",
    "\n",
    "    @recipient.setter\n",
    "    def recipient(self, recipient):\n",
    "        if not isinstance(recipient, str):\n",
    "            raise TypeError(\"Recipient must be a string\")\n",
    "        self._recipient = recipient\n",
    "\n",
    "    # Amount getter and setter\n",
    "\n",
    "    @property\n",
    "    def amount(self):\n",
    "        return self._amount\n",
    "\n",
    "    @amount.setter\n",
    "    def amount(self, amount):\n",
    "        if not isinstance(amount, float):\n",
    "            raise TypeError(\"Amount must be a float\")\n",
    "        self._amount = amount\n",
    "\n",
    "    # Date getter and setter and deleter\n",
    "\n",
    "    @property\n",
    "    def date(self):\n",
    "        return self._date\n",
    "\n",
    "    @date.setter\n",
    "    def date(self, date):\n",
    "        if date is not None and not isinstance(date, str):\n",
    "            raise TypeError(\"Date must be a string or None\")\n",
    "        self._date = date\n",
    "\n",
    "    @date.deleter\n",
    "    def date(self):\n",
    "        self._date = None\n",
    "\n",
    "\n"
   ]
  },
  {
   "cell_type": "markdown",
   "metadata": {},
   "source": [
    "Now with pydantic: "
   ]
  },
  {
   "cell_type": "code",
   "execution_count": 2,
   "metadata": {},
   "outputs": [
    {
     "name": "stdout",
     "output_type": "stream",
     "text": [
      "Collecting pydantic\n",
      "  Using cached pydantic-2.0.2-py3-none-any.whl (359 kB)\n",
      "Collecting pydantic-core==2.1.2\n",
      "  Using cached pydantic_core-2.1.2-cp310-cp310-macosx_10_7_x86_64.whl (1.5 MB)\n",
      "Collecting annotated-types>=0.4.0\n",
      "  Using cached annotated_types-0.5.0-py3-none-any.whl (11 kB)\n",
      "Collecting typing-extensions>=4.6.1\n",
      "  Using cached typing_extensions-4.7.1-py3-none-any.whl (33 kB)\n",
      "Installing collected packages: typing-extensions, annotated-types, pydantic-core, pydantic\n",
      "Successfully installed annotated-types-0.5.0 pydantic-2.0.2 pydantic-core-2.1.2 typing-extensions-4.7.1\n",
      "\n",
      "\u001b[1m[\u001b[0m\u001b[34;49mnotice\u001b[0m\u001b[1;39;49m]\u001b[0m\u001b[39;49m A new release of pip is available: \u001b[0m\u001b[31;49m23.0.1\u001b[0m\u001b[39;49m -> \u001b[0m\u001b[32;49m23.1.2\u001b[0m\n",
      "\u001b[1m[\u001b[0m\u001b[34;49mnotice\u001b[0m\u001b[1;39;49m]\u001b[0m\u001b[39;49m To update, run: \u001b[0m\u001b[32;49mpython3.10 -m pip install --upgrade pip\u001b[0m\n",
      "Note: you may need to restart the kernel to use updated packages.\n"
     ]
    }
   ],
   "source": [
    "pip install pydantic"
   ]
  },
  {
   "cell_type": "markdown",
   "metadata": {},
   "source": [
    "In pydantic, you don't usually use getters and setters, the validation happens when the object is instantiated. So here we weill build validators instead of getters and setters"
   ]
  },
  {
   "cell_type": "code",
   "execution_count": 3,
   "metadata": {},
   "outputs": [],
   "source": [
    "from pydantic import BaseModel, Field, validator, ValidationError\n",
    "\n",
    "class TransactionPydantic(BaseModel):\n",
    "    sender: str\n",
    "    recipient: str\n",
    "    _amount: float\n",
    "    _date: datetime | None # this is a type hint for python 3.10  if using 3.9 you have to Optional from typing\n",
    "\n",
    "@validator(\"sender\", \"recipient\")\n",
    "def check_string(cls, v):\n",
    "    if not isinstance(v, str):\n",
    "        raise TypeError(\"Sender and recipient must be strings\")\n",
    "    return v\n",
    "\n",
    "@validator(\"amount\")\n",
    "def check_amount(cls, v):\n",
    "    if not isinstance(v, float):\n",
    "        raise TypeError(\"Amount must be a float\")\n",
    "    return v\n",
    "\n",
    "@validator(\"date\")\n",
    "def check_date(cls, v):\n",
    "    if v is not None and not isinstance(v, datetime):\n",
    "        raise TypeError(\"Date must be datetime or None\")\n",
    "    return v\n"
   ]
  }
 ],
 "metadata": {
  "kernelspec": {
   "display_name": "Python 3",
   "language": "python",
   "name": "python3"
  },
  "language_info": {
   "codemirror_mode": {
    "name": "ipython",
    "version": 3
   },
   "file_extension": ".py",
   "mimetype": "text/x-python",
   "name": "python",
   "nbconvert_exporter": "python",
   "pygments_lexer": "ipython3",
   "version": "3.10.12"
  },
  "orig_nbformat": 4
 },
 "nbformat": 4,
 "nbformat_minor": 2
}
