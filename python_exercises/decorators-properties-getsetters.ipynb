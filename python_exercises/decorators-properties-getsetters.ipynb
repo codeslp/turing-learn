{
 "cells": [
  {
   "cell_type": "markdown",
   "metadata": {},
   "source": [
    "Learning to use decorator, getters, setters, properties. \n",
    "\n",
    "This uses the performance timing methods in the functools wraps module to create a @timeit decorator you can stick in front of any function to also return the time it took to run."
   ]
  },
  {
   "cell_type": "code",
   "execution_count": null,
   "metadata": {},
   "outputs": [],
   "source": [
    "from functools import wraps\n",
    "import time\n",
    "\n",
    "def timeit(func):\n",
    "    @wraps(func)\n",
    "    def timeit_wrapper(*args, **kwargs):\n",
    "        start_time = time.perf_counter()\n",
    "        result = func(*args, **kwargs)\n",
    "        end_time = time.perf_counter()\n",
    "        total_time = end_time - start_time\n",
    "        print(f\"Function {func.__name__}{args} {kwargs} took {total_time:.4f} seconds\")\n",
    "        return result\n",
    "    return timeit_wrapper"
   ]
  },
  {
   "cell_type": "code",
   "execution_count": 4,
   "metadata": {},
   "outputs": [],
   "source": [
    "from dataclasses import dataclass\n",
    "from datetime import datetime\n",
    "\n",
    "@dataclass\n",
    "class Transaction:\n",
    "    _sender: str\n",
    "    _recipient: str\n",
    "    _amount: float\n",
    "    _date: datetime = None\n",
    "\n",
    "    # Sender getter and setter\n",
    "\n",
    "    @property\n",
    "    def sender(self):\n",
    "        return self._sender\n",
    "    \n",
    "    @sender.setter\n",
    "    def sender(self, sender):\n",
    "        if not isinstance(sender, str):\n",
    "            raise TypeError(\"Sender must be a string\")\n",
    "        self._sender = sender\n",
    "\n",
    "    # Recipient getter and setter\n",
    "\n",
    "    @property\n",
    "    def recipient(self):\n",
    "        return self._recipient\n",
    "\n",
    "    @recipient.setter\n",
    "    def recipient(self, recipient):\n",
    "        if not isinstance(recipient, str):\n",
    "            raise TypeError(\"Recipient must be a string\")\n",
    "        self._recipient = recipient\n",
    "\n",
    "    # Amount getter and setter\n",
    "\n",
    "    @property\n",
    "    def amount(self):\n",
    "        return self._amount\n",
    "\n",
    "    @amount.setter\n",
    "    def amount(self, amount):\n",
    "        if not isinstance(amount, float):\n",
    "            raise TypeError(\"Amount must be a float\")\n",
    "        self._amount = amount\n",
    "\n",
    "    # Date getter and setter and deleter\n",
    "\n",
    "    @property\n",
    "    def date(self):\n",
    "        return self._date\n",
    "\n",
    "    @date.setter\n",
    "    def date(self, date):\n",
    "        if date is not None and not isinstance(date, str):\n",
    "            raise TypeError(\"Date must be a string or None\")\n",
    "        self._date = date\n",
    "\n",
    "    @date.deleter\n",
    "    def date(self):\n",
    "        self._date = None\n",
    "\n",
    "\n"
   ]
  },
  {
   "cell_type": "markdown",
   "metadata": {},
   "source": [
    "Now with pydantic: "
   ]
  },
  {
   "cell_type": "code",
   "execution_count": null,
   "metadata": {},
   "outputs": [],
   "source": [
    "# pip install pydantic"
   ]
  },
  {
   "cell_type": "markdown",
   "metadata": {},
   "source": [
    "In pydantic, you don't usually use getters and setters, the validation happens when the object is instantiated. So here we weill build validators instead of getters and setters"
   ]
  },
  {
   "cell_type": "code",
   "execution_count": 3,
   "metadata": {},
   "outputs": [],
   "source": [
    "from pydantic import BaseModel, Field, validator, ValidationError\n",
    "\n",
    "class TransactionPydantic(BaseModel):\n",
    "    sender: str\n",
    "    recipient: str\n",
    "    _amount: float\n",
    "    _date: datetime | None # this is a type hint for python 3.10  if using 3.9 you have to Optional from typing\n",
    "\n",
    "@validator(\"sender\", \"recipient\")\n",
    "def check_string(cls, v):\n",
    "    if not isinstance(v, str):\n",
    "        raise TypeError(\"Sender and recipient must be strings\")\n",
    "    return v\n",
    "\n",
    "@validator(\"amount\")\n",
    "def check_amount(cls, v):\n",
    "    if not isinstance(v, float):\n",
    "        raise TypeError(\"Amount must be a float\")\n",
    "    return v\n",
    "\n",
    "@validator(\"date\")\n",
    "def check_date(cls, v):\n",
    "    if v is not None and not isinstance(v, datetime):\n",
    "        raise TypeError(\"Date must be datetime or None\")\n",
    "    return v\n"
   ]
  },
  {
   "cell_type": "markdown",
   "metadata": {},
   "source": [
    "For any object, you can do help(Counter) to see how it works"
   ]
  },
  {
   "cell_type": "markdown",
   "metadata": {},
   "source": [
    "You can do a retry decorator that is useful:"
   ]
  },
  {
   "cell_type": "code",
   "execution_count": 3,
   "metadata": {},
   "outputs": [],
   "source": [
    "from functools import wraps\n",
    "def retry(func):\n",
    "    @wraps(func)\n",
    "    def retry_wrapper(*args, **kwargs):\n",
    "        for i in range(3):\n",
    "            try:\n",
    "                result = func(*args, **kwargs)\n",
    "                return result\n",
    "            except Exception as e:\n",
    "                print(f\"Exception {e} occurred. Retrying...\")\n",
    "    return retry_wrapper"
   ]
  },
  {
   "cell_type": "code",
   "execution_count": 8,
   "metadata": {},
   "outputs": [],
   "source": [
    "@retry\n",
    "def bad_func():\n",
    "    raise Exception(\"Bad func failed\")\n",
    "\n",
    "@retry\n",
    "def good_func():\n",
    "    return \"Good func succeeded\"\n"
   ]
  },
  {
   "cell_type": "code",
   "execution_count": 9,
   "metadata": {},
   "outputs": [
    {
     "name": "stdout",
     "output_type": "stream",
     "text": [
      "Exception Bad func failed occurred. Retrying...\n",
      "Exception Bad func failed occurred. Retrying...\n",
      "Exception Bad func failed occurred. Retrying...\n"
     ]
    },
    {
     "data": {
      "text/plain": [
       "'Good func succeeded'"
      ]
     },
     "execution_count": 9,
     "metadata": {},
     "output_type": "execute_result"
    }
   ],
   "source": [
    "bad_func()\n",
    "good_func()"
   ]
  },
  {
   "cell_type": "markdown",
   "metadata": {},
   "source": [
    "# Testing is another use case for decorators to add functionality  to tests"
   ]
  },
  {
   "cell_type": "markdown",
   "metadata": {},
   "source": [
    "In PyTest, there are several built-in decorators you can use to modify the behavior of your test functions. Here are some common examples:\n",
    "\n",
    "1. **`@pytest.mark.parametrize`:** This decorator allows you to run a test function multiple times with different arguments.\n",
    "\n",
    "In this example below, `test_square` will be run 5 times, each time with a different pair of arguments."
   ]
  },
  {
   "cell_type": "code",
   "execution_count": null,
   "metadata": {},
   "outputs": [],
   "source": [
    "@pytest.mark.parametrize(\"input,expected_output\", [(1, 1), (2, 4), (3, 9), (4, 16), (5, 25)])\n",
    "def test_square(input, expected_output):\n",
    "    assert input ** 2 == expected_output"
   ]
  },
  {
   "cell_type": "markdown",
   "metadata": {},
   "source": [
    "\n",
    "\n",
    "\n",
    "2. **`@pytest.mark.skip`:** This decorator lets you skip a test. You can also provide a reason which will be shown when the tests are run.\n",
    "\n",
    "    ```python\n",
    "    @pytest.mark.skip(reason=\"No need to test this function right now.\")\n",
    "    def test_my_function():\n",
    "        pass\n",
    "    ```\n",
    "\n",
    "3. **`@pytest.mark.xfail`:** Marks a test function as expected to fail. If the test passes, it will be reported as an \"unexpected success\".\n",
    "\n",
    "    ```python\n",
    "    @pytest.mark.xfail\n",
    "    def test_my_function():\n",
    "        assert 0\n",
    "    ```\n",
    "\n",
    "4. **`@pytest.fixture`:** This decorator lets you define setup code that should run before your tests. You can then include the fixture as an argument in your test functions, and PyTest will automatically call it for you.\n",
    "\n",
    "    ```python\n",
    "    @pytest.fixture\n",
    "    def setup_data():\n",
    "        return {\"key\": \"value\"}\n",
    "\n",
    "    def test_my_function(setup_data):\n",
    "        assert setup_data[\"key\"] == \"value\"\n",
    "    ```\n",
    "\n",
    "    In this example, `setup_data` will be called before `test_my_function` and its return value will be passed as an argument.\n",
    "\n",
    "These decorators are some of the ways you can modify the behavior of your tests in PyTest, but there are many other features and options available as well. You can learn more in the [PyTest documentation](https://docs.pytest.org/en/latest/)."
   ]
  }
 ],
 "metadata": {
  "kernelspec": {
   "display_name": "Python 3",
   "language": "python",
   "name": "python3"
  },
  "language_info": {
   "codemirror_mode": {
    "name": "ipython",
    "version": 3
   },
   "file_extension": ".py",
   "mimetype": "text/x-python",
   "name": "python",
   "nbconvert_exporter": "python",
   "pygments_lexer": "ipython3",
   "version": "3.10.12"
  },
  "orig_nbformat": 4
 },
 "nbformat": 4,
 "nbformat_minor": 2
}
