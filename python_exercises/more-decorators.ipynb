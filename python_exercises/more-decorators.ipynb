{
 "cells": [
  {
   "cell_type": "markdown",
   "metadata": {},
   "source": [
    "\n",
    "A decorator that clocks every invocation of the decorated function and displays the elapsed time, the arguments passed, and the result of the call"
   ]
  },
  {
   "cell_type": "code",
   "execution_count": null,
   "metadata": {},
   "outputs": [],
   "source": [
    "# CLOCKDECO\n",
    "import time\n",
    "import functools\n",
    "\n",
    "\n",
    "def clock(func):\n",
    "    @functools.wraps(func)\n",
    "    def clocked(*args, **kwargs):\n",
    "        t0 = time.perf_counter()\n",
    "        result = func(*args, **kwargs)\n",
    "        elapsed = time.perf_counter() - t0\n",
    "        name = func.__name__\n",
    "        arg_lst = [repr(arg) for arg in args]\n",
    "        arg_lst.extend(f'{k}={v!r}' for k, v in kwargs.items())\n",
    "        arg_str = ', '.join(arg_lst)\n",
    "        print(f'[{elapsed:0.8f}s] {name}({arg_str}) -> {result!r}')\n",
    "        return result\n",
    "    return clocked"
   ]
  },
  {
   "cell_type": "markdown",
   "metadata": {},
   "source": [
    "@singledispatch allows a function to behave differently based on the type of the parameter passed. When specifying types besides strings and bools, you want to use the types as they are defined in the ABC module of the collections package and in numbers, decimals, and fractions, because they will allow you narrower slices of types than the basic int, float etc"
   ]
  },
  {
   "cell_type": "code",
   "execution_count": null,
   "metadata": {},
   "outputs": [],
   "source": [
    "from functools import singledispatch\n",
    "from typing import Any\n",
    "import numbers\n",
    "import decimal\n",
    "import fractions\n",
    "\n",
    "@singledispatch\n",
    "def func(arg: Any, verbose=False):\n",
    "    raise NotImplementedError(f'Type: {type(arg)} cannot be used with func.')\n",
    "\n",
    "@func.register\n",
    "def _(arg: str, verbose=True) -> str:\n",
    "    if verbose:\n",
    "        print(f'Processing string: {arg}')\n",
    "    return arg\n",
    "\n",
    "@func.register\n",
    "def _(arg: numbers.Integral, verbose=True) -> str:\n",
    "    if verbose:\n",
    "        print(f'Processing integer: {arg}')\n",
    "    return arg\n",
    "\n",
    "@func.register\n",
    "def _(arg: numbers.Integral, verbose=True) -> str:\n",
    "    if verbose:\n",
    "        print(f'Processing integer: {arg}')\n",
    "    return arg\n",
    "\n",
    "@func.register\n",
    "def _(arg: fractions.Fraction, verbose=True) -> str:\n",
    "    if verbose:\n",
    "        print(f'Processing fraction: {arg}')\n",
    "    return arg\n",
    "\n",
    "@func.register\n",
    "def _(arg: decimal.Decimal | float, verbose=True) -> str:\n",
    "    if verbose:\n",
    "        print(f'Processing float: {arg}')\n",
    "    return arg\n",
    "\n",
    "@func.register\n",
    "def _(arg: bool, verbose=True) -> str:\n",
    "    if verbose:\n",
    "        print(f'Processing boolean: {arg}')\n",
    "    return arg  \n"
   ]
  }
 ],
 "metadata": {
  "language_info": {
   "name": "python"
  },
  "orig_nbformat": 4
 },
 "nbformat": 4,
 "nbformat_minor": 2
}
