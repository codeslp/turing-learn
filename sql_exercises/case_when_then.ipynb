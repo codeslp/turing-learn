{
 "cells": [
  {
   "cell_type": "markdown",
   "metadata": {},
   "source": [
    "You are given a table, BST, containing two columns: N and P, where N represents the value of a node in Binary Tree, and P is the parent of N.\n",
    "\n",
    "\n",
    "\n",
    "Write a query to find the node type of Binary Tree ordered by the value of the node. Output one of the following for each node:\n",
    "\n",
    "Root: If node is root node.\n",
    "Leaf: If node is leaf node.\n",
    "Inner: If node is neither root nor leaf node."
   ]
  },
  {
   "cell_type": "code",
   "execution_count": null,
   "metadata": {
    "vscode": {
     "languageId": "sql"
    }
   },
   "outputs": [],
   "source": [
    "select N,\n",
    "case \n",
    "    when P is null then 'Root'\n",
    "    when N not in (select P from BST where P is not null) then 'Leaf'\n",
    "    else 'Inner'\n",
    "end as Node_Type\n",
    "from BST\n",
    "order by N asc;"
   ]
  },
  {
   "cell_type": "markdown",
   "metadata": {},
   "source": [
    "Your nephews Huey, Dewey, and Louie are staying with you over the winter holidays. Ever since they arrived, you've hardly had a day go by without some kind of incident - the little rascals do whatever they please! Actually, you're not even mad; the ideas they come up with are pretty amazing, and it looks like there's even a system to their mischief.\n",
    "\n",
    "You decided to track and analyze their behavior, so you created the mischief table in your local database. The table has the following columns:\n",
    "\n",
    "mischief_date: the date of the mischief (of the date type);\n",
    "author: the nephew who caused the mischief (\"Huey\", \"Dewey\" or \"Louie\");\n",
    "title: the title of the mischief.\n",
    "It looks like each of your nephews is active on a specific day of the week. You decide to check your theory by creating another table as follows:\n",
    "The resulting table should contain four columns, weekday, mischief_date, author, and title, where weekday is the weekday of mischief_date (0 for Monday, 1 for Tuesday, and so on, with 6 for Sunday). The table should be sorted by the weekday column, and for each weekday Huey's mischief should go first, Dewey's should go next, and Louie's should go last. In case of a tie, mischief_date should be a tie-breaker. If there's still a tie, the record with the lexicographically smallest title should go first.\n",
    "\n",
    "It is guaranteed that all entries of mischief are unique."
   ]
  },
  {
   "cell_type": "code",
   "execution_count": null,
   "metadata": {
    "vscode": {
     "languageId": "sql"
    }
   },
   "outputs": [],
   "source": [
    "CREATE PROCEDURE solution()\n",
    "BEGIN\n",
    "\t/* Write your SQL here. Terminate each statement with a semicolon. */\n",
    "\tselect weekday(mischief_date) as weekday, mischief_date, author, title\n",
    "\tfrom mischief\n",
    "\torder by weekday,\n",
    "\t\tcase \n",
    "\t\t\twhen author = 'Huey' then 1\n",
    "\t\t\twhen author = 'Dewey' then 2\n",
    "\t\t\twhen author =  'Louie' then 3\n",
    "\t\tend,\n",
    "\t\tmischief_date, \n",
    "\t\ttitle asc;\t\n",
    "\t\n",
    "END"
   ]
  }
 ],
 "metadata": {
  "language_info": {
   "name": "python"
  }
 },
 "nbformat": 4,
 "nbformat_minor": 2
}
