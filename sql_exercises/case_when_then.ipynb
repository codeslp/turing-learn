{
 "cells": [
  {
   "cell_type": "markdown",
   "metadata": {},
   "source": [
    "You are given a table, BST, containing two columns: N and P, where N represents the value of a node in Binary Tree, and P is the parent of N.\n",
    "\n",
    "\n",
    "\n",
    "Write a query to find the node type of Binary Tree ordered by the value of the node. Output one of the following for each node:\n",
    "\n",
    "Root: If node is root node.\n",
    "Leaf: If node is leaf node.\n",
    "Inner: If node is neither root nor leaf node."
   ]
  },
  {
   "cell_type": "code",
   "execution_count": null,
   "metadata": {
    "vscode": {
     "languageId": "sql"
    }
   },
   "outputs": [],
   "source": [
    "select N,\n",
    "case \n",
    "    when P is null then 'Root'\n",
    "    when N not in (select P from BST where P is not null) then 'Leaf'\n",
    "    else 'Inner'\n",
    "end as Node_Type\n",
    "from BST\n",
    "order by N asc;"
   ]
  },
  {
   "cell_type": "markdown",
   "metadata": {},
   "source": [
    "Your nephews Huey, Dewey, and Louie are staying with you over the winter holidays. Ever since they arrived, you've hardly had a day go by without some kind of incident - the little rascals do whatever they please! Actually, you're not even mad; the ideas they come up with are pretty amazing, and it looks like there's even a system to their mischief.\n",
    "\n",
    "You decided to track and analyze their behavior, so you created the mischief table in your local database. The table has the following columns:\n",
    "\n",
    "mischief_date: the date of the mischief (of the date type);\n",
    "author: the nephew who caused the mischief (\"Huey\", \"Dewey\" or \"Louie\");\n",
    "title: the title of the mischief.\n",
    "It looks like each of your nephews is active on a specific day of the week. You decide to check your theory by creating another table as follows:\n",
    "The resulting table should contain four columns, weekday, mischief_date, author, and title, where weekday is the weekday of mischief_date (0 for Monday, 1 for Tuesday, and so on, with 6 for Sunday). The table should be sorted by the weekday column, and for each weekday Huey's mischief should go first, Dewey's should go next, and Louie's should go last. In case of a tie, mischief_date should be a tie-breaker. If there's still a tie, the record with the lexicographically smallest title should go first.\n",
    "\n",
    "It is guaranteed that all entries of mischief are unique."
   ]
  },
  {
   "cell_type": "code",
   "execution_count": null,
   "metadata": {
    "vscode": {
     "languageId": "sql"
    }
   },
   "outputs": [],
   "source": [
    "CREATE PROCEDURE solution()\n",
    "BEGIN\n",
    "\t/* Write your SQL here. Terminate each statement with a semicolon. */\n",
    "\tselect weekday(mischief_date) as weekday, mischief_date, author, title\n",
    "\tfrom mischief\n",
    "\torder by weekday,\n",
    "\t\tcase \n",
    "\t\t\twhen author = 'Huey' then 1\n",
    "\t\t\twhen author = 'Dewey' then 2\n",
    "\t\t\twhen author =  'Louie' then 3\n",
    "\t\tend,\n",
    "\t\tmischief_date, \n",
    "\t\ttitle asc;\t\n",
    "\t\n",
    "END"
   ]
  },
  {
   "cell_type": "markdown",
   "metadata": {},
   "source": [
    "or example, let’s say that you run a job every week that will set the customer.active column to 0 for any customers who haven’t rented a film in the last 90 days. Here’s a statement that will set the value to either 0 or 1 for every customer:"
   ]
  },
  {
   "cell_type": "code",
   "execution_count": null,
   "metadata": {
    "vscode": {
     "languageId": "sql"
    }
   },
   "outputs": [],
   "source": [
    "update customer\n",
    "set active =\n",
    "    case\n",
    "        when 90 <= (select datediff(now(), max(rental_date))\n",
    "                    from rental r\n",
    "                    where r.customer_id = customer.customer_id)\n",
    "            then 0\n",
    "        else 1\n",
    "    end\n",
    "where active = 1;"
   ]
  },
  {
   "cell_type": "markdown",
   "metadata": {},
   "source": [
    "Handling nulls:"
   ]
  },
  {
   "cell_type": "code",
   "execution_count": null,
   "metadata": {
    "vscode": {
     "languageId": "sql"
    }
   },
   "outputs": [],
   "source": [
    "select c.first_name, c.last_name \n",
    "    case \n",
    "        when a.address is null\n",
    "            then 'Unknown'\n",
    "            else a.address\n",
    "    end address\n",
    "    case\n",
    "        when ci.city is null\n",
    "            then 'Unknown'\n",
    "            else ci.city\n",
    "    end city\n",
    "    case\n",
    "        when co.country is null\n",
    "            then 'Unknown'\n",
    "            else co.country\n",
    "    end country\n",
    "from customer c\n",
    "    full outer join address a\n",
    "    on c.id = a. customer_id\n",
    "    full outer join address city ci\n",
    "    on a.city_id = ci.city_id\n",
    "    full outer join address country co\n",
    "    on a.country_id = co.country_id"
   ]
  },
  {
   "cell_type": "markdown",
   "metadata": {},
   "source": []
  },
  {
   "cell_type": "code",
   "execution_count": null,
   "metadata": {
    "vscode": {
     "languageId": "sql"
    }
   },
   "outputs": [],
   "source": [
    "SELECT name,\n",
    "  CASE name\n",
    "    WHEN 'English' THEN 'latin1'\n",
    "    WHEN 'Italian' THEN 'latin1'\n",
    "    WHEN 'French' THEN 'latin1'\n",
    "    WHEN 'German' THEN 'latin1'\n",
    "    WHEN 'Japanese' THEN 'utf8'\n",
    "    WHEN 'Mandarin' THEN 'utf8'\n",
    "    ELSE 'Unknown'\n",
    "  END character_set\n",
    "FROM language;\n",
    "\n",
    "-- Optimized:\n",
    "\n",
    "select name,\n",
    "    case\n",
    "        when name in ('English', 'Italian', 'French', 'German')\n",
    "            then 'latin1'\n",
    "        when name in ('Japanese', 'Mandarin')\n",
    "            then 'utf8'\n",
    "        else 'Unknown'\n",
    "    end character_set\n",
    "from language;"
   ]
  },
  {
   "cell_type": "code",
   "execution_count": null,
   "metadata": {
    "vscode": {
     "languageId": "sql"
    }
   },
   "outputs": [],
   "source": [
    "SELECT rating, count(*)\n",
    "FROM film\n",
    "GROUP BY rating;"
   ]
  },
  {
   "cell_type": "markdown",
   "metadata": {},
   "source": [
    "This is what you get from the above:"
   ]
  },
  {
   "cell_type": "code",
   "execution_count": null,
   "metadata": {
    "vscode": {
     "languageId": "sql"
    }
   },
   "outputs": [],
   "source": [
    "+--------+----------+\n",
    "| rating | count(*) |\n",
    "+--------+----------+\n",
    "| PG     |      194 |\n",
    "| G      |      178 |\n",
    "| NC-17  |      210 |\n",
    "| PG-13  |      223 |\n",
    "| R      |      195 |\n",
    "+--------+----------+"
   ]
  },
  {
   "cell_type": "markdown",
   "metadata": {},
   "source": [
    "\n",
    "You can flip the axes and get it all in one row like this:"
   ]
  },
  {
   "cell_type": "code",
   "execution_count": null,
   "metadata": {
    "vscode": {
     "languageId": "sql"
    }
   },
   "outputs": [],
   "source": [
    "select\n",
    "    sum (case when rating = 'G' then 1 else 0 end) 'G',\n",
    "    sum (case when rating = 'PG' then 1 else 0 end) 'PG',\n",
    "    sum (case when rating = 'PG_13' then 1 else 0 end) 'PG_13',\n",
    "    sum (case when rating = 'R' then 1 else 0 end) 'R',\n",
    "    sum (case when rating = 'NC_17' then 1 else 0 end) 'NC_17'\n",
    "from film;"
   ]
  }
 ],
 "metadata": {
  "language_info": {
   "name": "python"
  }
 },
 "nbformat": 4,
 "nbformat_minor": 2
}
