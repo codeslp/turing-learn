{
 "cells": [
  {
   "cell_type": "markdown",
   "metadata": {},
   "source": [
    "This will update last update col to the most recent rental date for each customer where exists 1 rental"
   ]
  },
  {
   "cell_type": "code",
   "execution_count": null,
   "metadata": {
    "vscode": {
     "languageId": "sql"
    }
   },
   "outputs": [],
   "source": [
    "update customer c\n",
    "set c.last_update = \n",
    "\t(select max(r.rental_date) from rental r\n",
    "\twhere r.customer_id = c.customer_id)\n",
    "where exists\n",
    "\t(select 1 from rental r\n",
    "\twhere r.customer_id = c.customer_id);"
   ]
  },
  {
   "cell_type": "markdown",
   "metadata": {},
   "source": [
    "delete customers that have not rented for a year"
   ]
  },
  {
   "cell_type": "code",
   "execution_count": null,
   "metadata": {
    "vscode": {
     "languageId": "sql"
    }
   },
   "outputs": [],
   "source": [
    "delete from customer c\n",
    "where 365 < all\n",
    "    (select datediff(now(), r.rental_date) days_since_last_rental\n",
    "    from rental r\n",
    "    where r.customer_id = c.customer_id);"
   ]
  },
  {
   "cell_type": "markdown",
   "metadata": {},
   "source": [
    "The subquery against the film_actor table should count the number of rows for each actor using group by actor_id, and the count should be compared to the min_roles/max_roles columns to determine which level each actor belongs to.\n",
    "\n"
   ]
  },
  {
   "cell_type": "code",
   "execution_count": null,
   "metadata": {
    "vscode": {
     "languageId": "sql"
    }
   },
   "outputs": [],
   "source": [
    "\n",
    "select actors.actor_id, r.level\n",
    "from\n",
    "(SELECT 'Hollywood Star' level, 30 min_roles, 99999 max_roles\n",
    "UNION ALL\n",
    "SELECT 'Prolific Actor' level, 20 min_roles, 29 max_roles\n",
    "UNION ALL\n",
    "SELECT 'Newcomer' level, 1 min_roles, 19 max_roles) r\n",
    "INNER JOIN\n",
    "(select actor_id, count(*) num_roles\n",
    "from film_actor\n",
    "group by actor_id) actors\n",
    "on actors.num_roles between r.min_roles and r.max_roles;"
   ]
  }
 ],
 "metadata": {
  "language_info": {
   "name": "python"
  }
 },
 "nbformat": 4,
 "nbformat_minor": 2
}
