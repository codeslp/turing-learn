{
 "cells": [
  {
   "cell_type": "markdown",
   "metadata": {},
   "source": [
    "https://learning.oreilly.com/library/view/learning-sql-3rd/9781492057604/ch15.html#exercise_15-2  Write a query that lists all of the indexes in the Sakila schema. Include the table names."
   ]
  },
  {
   "cell_type": "markdown",
   "metadata": {},
   "source": [
    "In mysql:"
   ]
  },
  {
   "cell_type": "code",
   "execution_count": null,
   "metadata": {
    "vscode": {
     "languageId": "sql"
    }
   },
   "outputs": [],
   "source": [
    "select index_name\n",
    "from information_schema.statistics\n",
    "where table_schema = 'sakila'\n",
    "and table_name = 'actor';"
   ]
  },
  {
   "cell_type": "markdown",
   "metadata": {},
   "source": [
    "In postgres:"
   ]
  },
  {
   "cell_type": "code",
   "execution_count": null,
   "metadata": {
    "vscode": {
     "languageId": "sql"
    }
   },
   "outputs": [],
   "source": [
    "select tablename, indexname\n",
    "from pg_indexes\n",
    "where schemaname = 'public';"
   ]
  },
  {
   "cell_type": "markdown",
   "metadata": {},
   "source": [
    "Dynamic sql in postgres:"
   ]
  },
  {
   "cell_type": "code",
   "execution_count": null,
   "metadata": {
    "vscode": {
     "languageId": "sql"
    }
   },
   "outputs": [],
   "source": [
    "exec sql begin declare section;\n",
    "const char *stmt = \"alter table public.customer add index customer_pkey USING btree (customer_id);\";\n",
    "exec sql end declare section;\n",
    "\n",
    "exec sql exectute immediate :stmt;"
   ]
  }
 ],
 "metadata": {
  "language_info": {
   "name": "python"
  }
 },
 "nbformat": 4,
 "nbformat_minor": 2
}
