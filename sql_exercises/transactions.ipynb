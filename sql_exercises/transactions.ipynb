{
 "cells": [
  {
   "cell_type": "markdown",
   "metadata": {},
   "source": [
    "https://learning.oreilly.com/library/view/learning-sql-3rd/9781492057604/ch12.html#starting_a_transaction"
   ]
  },
  {
   "cell_type": "code",
   "execution_count": null,
   "metadata": {
    "vscode": {
     "languageId": "sql"
    }
   },
   "outputs": [],
   "source": [
    "start transaction; \n",
    "\n",
    "insert into transaction(txn_id, txn_date, account_id, txn_type_cd, amount)\n",
    "values (1001, '2019-05-15', 123, 'D', 50);\n",
    "\n",
    "insert into transaction(txn_id, txn_date, account_id, txn_type_cd, amount)\n",
    "values (1002, '2019-06-01', 789, 'C', 50);\n",
    "\n",
    "update account\n",
    "set avail_balance = (avail_balance - 50), \n",
    "    last_activity_date = current_timestamp()\n",
    "where account_id = 123;\n",
    "\n",
    "update account\n",
    "set avail_balance = (avail_balance + 50),\n",
    "    last_activity_date = current_timestamp()\n",
    "where account_id = 789;\n",
    "\n",
    "commit;"
   ]
  },
  {
   "cell_type": "markdown",
   "metadata": {},
   "source": [
    "Adding a constraint what will raise an error if this field is deleted:"
   ]
  },
  {
   "cell_type": "code",
   "execution_count": null,
   "metadata": {
    "vscode": {
     "languageId": "sql"
    }
   },
   "outputs": [],
   "source": [
    "alter table rental\n",
    "add constraint fk_customer_id foreign key (customer_id)\n",
    "references customer (customer_id) on delete restrict;"
   ]
  },
  {
   "cell_type": "markdown",
   "metadata": {},
   "source": [
    "Creating a multicolumns index:"
   ]
  },
  {
   "cell_type": "code",
   "execution_count": null,
   "metadata": {
    "vscode": {
     "languageId": "sql"
    }
   },
   "outputs": [],
   "source": [
    "alter table payment\n",
    "add index idx_customer_id_date (payment_date, amount);"
   ]
  },
  {
   "cell_type": "markdown",
   "metadata": {},
   "source": [
    "Creating a view:"
   ]
  },
  {
   "cell_type": "code",
   "execution_count": null,
   "metadata": {
    "vscode": {
     "languageId": "sql"
    }
   },
   "outputs": [],
   "source": [
    "create view film_ctgory_actor\n",
    "AS\n",
    "select f.title, c.category, a.first_name, a.last_name\n",
    "from film f\n",
    "    JOIN film_actor fa\n",
    "    on f.film_id = fa.film_id\n",
    "    join actor a\n",
    "    on fa.actor_id = a.actor_id\n",
    "    join film_category fc\n",
    "    on f.film_id = fc.film_id\n",
    "    join category\n",
    "    on fc.category_id = c.category_id;"
   ]
  },
  {
   "cell_type": "code",
   "execution_count": null,
   "metadata": {
    "vscode": {
     "languageId": "sql"
    }
   },
   "outputs": [],
   "source": [
    "create view tot_country_payments\n",
    "AS\n",
    "select c.country, sub.tot_payments,\n",
    "    from country c\n",
    "    full outer join\n",
    "        (select \n",
    "            sum(p.amount) as tot_payments, \n",
    "            co.country_id as country_id\n",
    "        from payment p\n",
    "            join customer c\n",
    "            on p.customer_id = c.customer_id\n",
    "            join address a \n",
    "            on c.address_id = a.address_id\n",
    "            join city ci\n",
    "            on a.city_id = ci.city_id\n",
    "            join country co\n",
    "            on ci.country_id = co.country_id\n",
    "        group by co.country_id) sub\n",
    "    on c.country_id = sub.country_id\n",
    "order by tot_payments desc;"
   ]
  }
 ],
 "metadata": {
  "language_info": {
   "name": "python"
  }
 },
 "nbformat": 4,
 "nbformat_minor": 2
}
