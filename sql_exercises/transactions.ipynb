{
 "cells": [
  {
   "cell_type": "markdown",
   "metadata": {},
   "source": [
    "https://learning.oreilly.com/library/view/learning-sql-3rd/9781492057604/ch12.html#starting_a_transaction"
   ]
  },
  {
   "cell_type": "code",
   "execution_count": null,
   "metadata": {
    "vscode": {
     "languageId": "sql"
    }
   },
   "outputs": [],
   "source": [
    "start transaction; \n",
    "\n",
    "insert into transaction(txn_id, txn_date, account_id, txn_type_cd, amount)\n",
    "values (1001, '2019-05-15', 123, 'D', 50);\n",
    "\n",
    "insert into transaction(txn_id, txn_date, account_id, txn_type_cd, amount)\n",
    "values (1002, '2019-06-01', 789, 'C', 50);\n",
    "\n",
    "update account\n",
    "set avail_balance = (avail_balance - 50), \n",
    "    last_activity_date = current_timestamp()\n",
    "where account_id = 123;\n",
    "\n",
    "update account\n",
    "set avail_balance = (avail_balance + 50),\n",
    "    last_activity_date = current_timestamp()\n",
    "where account_id = 789;\n",
    "\n",
    "commit;"
   ]
  },
  {
   "cell_type": "code",
   "execution_count": null,
   "metadata": {
    "vscode": {
     "languageId": "sql"
    }
   },
   "outputs": [],
   "source": [
    "alter table"
   ]
  }
 ],
 "metadata": {
  "language_info": {
   "name": "python"
  }
 },
 "nbformat": 4,
 "nbformat_minor": 2
}
