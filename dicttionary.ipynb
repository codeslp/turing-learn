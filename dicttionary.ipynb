{
 "cells": [
  {
   "cell_type": "markdown",
   "metadata": {},
   "source": [
    "Using dict comprehensions\n",
    "\n",
    "Reversing a dict:"
   ]
  },
  {
   "cell_type": "code",
   "execution_count": 2,
   "metadata": {},
   "outputs": [
    {
     "data": {
      "text/plain": [
       "{'1984': 'Book1',\n",
       " 'To Kill a Mockingbird': 'Book2',\n",
       " 'The Great Gatsby': 'Book3',\n",
       " 'Moby Dick': 'Book4',\n",
       " 'War and Peace': 'Book5',\n",
       " 'Pride and Prejudice': 'Book6',\n",
       " 'Ulysses': 'Book7',\n",
       " 'The Catcher in the Rye': 'Book8',\n",
       " 'The Hobbit': 'Book9',\n",
       " 'Fahrenheit 451': 'Book10'}"
      ]
     },
     "execution_count": 2,
     "metadata": {},
     "output_type": "execute_result"
    }
   ],
   "source": [
    "library_books = [\n",
    "    (\"Book1\", \"1984\"),\n",
    "    (\"Book2\", \"To Kill a Mockingbird\"),\n",
    "    (\"Book3\", \"The Great Gatsby\"),\n",
    "    (\"Book4\", \"Moby Dick\"),\n",
    "    (\"Book5\", \"War and Peace\"),\n",
    "    (\"Book6\", \"Pride and Prejudice\"),\n",
    "    (\"Book7\", \"Ulysses\"),\n",
    "    (\"Book8\", \"The Catcher in the Rye\"),\n",
    "    (\"Book9\", \"The Hobbit\"),\n",
    "    (\"Book10\", \"Fahrenheit 451\"),\n",
    "]\n",
    "\n",
    "title_book = {title: book for book, title in library_books}\n",
    "\n",
    "title_book"
   ]
  },
  {
   "cell_type": "markdown",
   "metadata": {},
   "source": [
    "Reversing it again, while capitalizing the titles while filtering out titles & characters or shorter"
   ]
  },
  {
   "cell_type": "code",
   "execution_count": 4,
   "metadata": {},
   "outputs": [
    {
     "data": {
      "text/plain": [
       "{'Book10': 'FAHRENHEIT 451',\n",
       " 'Book4': 'MOBY DICK',\n",
       " 'Book6': 'PRIDE AND PREJUDICE',\n",
       " 'Book8': 'THE CATCHER IN THE RYE',\n",
       " 'Book3': 'THE GREAT GATSBY',\n",
       " 'Book9': 'THE HOBBIT',\n",
       " 'Book2': 'TO KILL A MOCKINGBIRD',\n",
       " 'Book5': 'WAR AND PEACE'}"
      ]
     },
     "execution_count": 4,
     "metadata": {},
     "output_type": "execute_result"
    }
   ],
   "source": [
    "{book: title.upper() for title, book in sorted(title_book.items()) if (len(title)>7)}"
   ]
  }
 ],
 "metadata": {
  "kernelspec": {
   "display_name": "Python 3",
   "language": "python",
   "name": "python3"
  },
  "language_info": {
   "codemirror_mode": {
    "name": "ipython",
    "version": 3
   },
   "file_extension": ".py",
   "mimetype": "text/x-python",
   "name": "python",
   "nbconvert_exporter": "python",
   "pygments_lexer": "ipython3",
   "version": "3.9.9"
  },
  "orig_nbformat": 4
 },
 "nbformat": 4,
 "nbformat_minor": 2
}
